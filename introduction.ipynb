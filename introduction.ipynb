{
 "cells": [
  {
   "cell_type": "code",
   "execution_count": 1,
   "metadata": {},
   "outputs": [],
   "source": [
    "import nb_helpers"
   ]
  },
  {
   "cell_type": "markdown",
   "metadata": {},
   "source": [
    "# Problem\n",
    "\n",
    "The bake-off is between competing implementations of simultaneous B&#XE9;zier Curve evaluation. The majority of the algorithms will apply the [de Casteljau algorithm][1] to the series of nodes, once each for independent values of the input parameter `s`.\n",
    "\n",
    "## Inputs: \n",
    "\n",
    "- 2D vector `nodes` ($b$) of shape `(d, N + 1)` (each column is a `d`-dimensional vector)\n",
    "- 1D vector `s_vals` ($s$) of shape `(k,)`\n",
    "\n",
    "## Output:\n",
    "\n",
    "- 2D vector `points` ($p$) of shape `(d, k)`\n",
    "\n",
    "## Algorithm:\n",
    "\n",
    "For every single value $s_j$ in $s$, we [\"reduce\" the number][1] of columns by 1 at each step, for example\n",
    "$$\\begin{align*}\n",
    "b^{(N, j)} &= b \\\\\n",
    "b^{(N - 1, j)} &= (1 - s_j) \\, b^{(N, j)}_{:, \\, 0:N - 1} + s_j \\, b^{(N, j)}_{:, \\, 1:N} \\\\\n",
    "&\\vdots \\\\\n",
    "b^{(1, j)} &= (1 - s_j) \\, b^{(2, j)}_{:, \\, 0:1} + s_j \\, b^{(2, j)}_{:, \\, 1:2} \\\\\n",
    "b^{(0, j)} &= (1 - s_j) \\, b^{(1, j)}_{:, \\, 0} + s_j \\, b^{(1, j)}_{:, \\, 1}\n",
    "\\end{align*}$$\n",
    "\n",
    "The result has each of these reduced values as its columns\n",
    "$$p_j = b^{(0, j)}.$$\n",
    "\n",
    "[1]: https://en.wikipedia.org/wiki/De_Casteljau%27s_algorithm"
   ]
  },
  {
   "cell_type": "code",
   "execution_count": 2,
   "metadata": {},
   "outputs": [],
   "source": [
    "nodes, s_vals = nb_helpers.generate_nodes(40, 9, 91222)"
   ]
  },
  {
   "cell_type": "code",
   "execution_count": 3,
   "metadata": {},
   "outputs": [
    {
     "data": {
      "text/plain": [
       "{'bakeoff.forall1': 'EQUAL',\n",
       " 'bakeoff.forall2': 'EQUAL',\n",
       " 'bakeoff.forall3': 'EQUAL',\n",
       " 'bakeoff.do1': 'EQUAL',\n",
       " 'bakeoff.do2': 'EQUAL',\n",
       " 'bakeoff.do3': 'EQUAL',\n",
       " 'bakeoff.spread1': 'EQUAL',\n",
       " 'bakeoff.spread2': 'EQUAL',\n",
       " 'bakeoff.spread3': 'EQUAL',\n",
       " 'bakeoff.serial': 'EQUAL',\n",
       " 'bakeoff.vs_algorithm64': 'ALLCLOSE',\n",
       " 'bakeoff_opt.forall1': 'ALLCLOSE',\n",
       " 'bakeoff_opt.forall2': 'ALLCLOSE',\n",
       " 'bakeoff_opt.forall3': 'ALLCLOSE',\n",
       " 'bakeoff_opt.do1': 'ALLCLOSE',\n",
       " 'bakeoff_opt.do2': 'ALLCLOSE',\n",
       " 'bakeoff_opt.do3': 'ALLCLOSE',\n",
       " 'bakeoff_opt.spread1': 'ALLCLOSE',\n",
       " 'bakeoff_opt.spread2': 'ALLCLOSE',\n",
       " 'bakeoff_opt.spread3': 'ALLCLOSE',\n",
       " 'bakeoff_opt.serial': 'ALLCLOSE',\n",
       " 'bakeoff_opt.vs_algorithm64': 'ALLCLOSE'}"
      ]
     },
     "execution_count": 3,
     "metadata": {},
     "output_type": "execute_result"
    }
   ],
   "source": [
    "nb_helpers.verify_implementations(nodes, s_vals)"
   ]
  },
  {
   "cell_type": "code",
   "execution_count": 4,
   "metadata": {},
   "outputs": [
    {
     "data": {
      "text/plain": [
       "{'bakeoff.forall1': 'EQUAL',\n",
       " 'bakeoff.forall2': 'EQUAL',\n",
       " 'bakeoff.forall3': 'EQUAL',\n",
       " 'bakeoff.do1': 'EQUAL',\n",
       " 'bakeoff.do2': 'EQUAL',\n",
       " 'bakeoff.do3': 'EQUAL',\n",
       " 'bakeoff.spread1': 'EQUAL',\n",
       " 'bakeoff.spread2': 'EQUAL',\n",
       " 'bakeoff.spread3': 'EQUAL',\n",
       " 'bakeoff.serial': 'EQUAL',\n",
       " 'bakeoff.vs_algorithm64': 'ALLCLOSE',\n",
       " 'bakeoff_opt.forall1': 'ALLCLOSE',\n",
       " 'bakeoff_opt.forall2': 'ALLCLOSE',\n",
       " 'bakeoff_opt.forall3': 'ALLCLOSE',\n",
       " 'bakeoff_opt.do1': 'ALLCLOSE',\n",
       " 'bakeoff_opt.do2': 'ALLCLOSE',\n",
       " 'bakeoff_opt.do3': 'ALLCLOSE',\n",
       " 'bakeoff_opt.spread1': 'ALLCLOSE',\n",
       " 'bakeoff_opt.spread2': 'ALLCLOSE',\n",
       " 'bakeoff_opt.spread3': 'ALLCLOSE',\n",
       " 'bakeoff_opt.serial': 'ALLCLOSE',\n",
       " 'bakeoff_opt.vs_algorithm64': 'ALLCLOSE'}"
      ]
     },
     "execution_count": 4,
     "metadata": {},
     "output_type": "execute_result"
    }
   ],
   "source": [
    "nodes, s_vals = nb_helpers.generate_nodes(62, 513, 1568182051)\n",
    "nb_helpers.verify_implementations(nodes, s_vals)"
   ]
  },
  {
   "cell_type": "markdown",
   "metadata": {},
   "source": [
    "Though the `vs_algorithm` implementation is faster (it does linear work instead of the quadratic work done by the de Casteljau algorithm variants), it ceases to be accurate when the degree `N` hits 62 (i.e. the number of nodes hits 63). When computing $\\binom{62}{28}$, the value overflows `c_int64_t` and the result is incorrect. (See `vs-algorithm-overflow.ipynb` for more details.)"
   ]
  },
  {
   "cell_type": "code",
   "execution_count": 5,
   "metadata": {},
   "outputs": [
    {
     "data": {
      "text/plain": [
       "{'bakeoff.forall1': 'EQUAL',\n",
       " 'bakeoff.forall2': 'EQUAL',\n",
       " 'bakeoff.forall3': 'EQUAL',\n",
       " 'bakeoff.do1': 'EQUAL',\n",
       " 'bakeoff.do2': 'EQUAL',\n",
       " 'bakeoff.do3': 'EQUAL',\n",
       " 'bakeoff.spread1': 'EQUAL',\n",
       " 'bakeoff.spread2': 'EQUAL',\n",
       " 'bakeoff.spread3': 'EQUAL',\n",
       " 'bakeoff.serial': 'EQUAL',\n",
       " 'bakeoff.vs_algorithm64': 'DIFFERENT',\n",
       " 'bakeoff_opt.forall1': 'ALLCLOSE',\n",
       " 'bakeoff_opt.forall2': 'ALLCLOSE',\n",
       " 'bakeoff_opt.forall3': 'ALLCLOSE',\n",
       " 'bakeoff_opt.do1': 'ALLCLOSE',\n",
       " 'bakeoff_opt.do2': 'ALLCLOSE',\n",
       " 'bakeoff_opt.do3': 'ALLCLOSE',\n",
       " 'bakeoff_opt.spread1': 'ALLCLOSE',\n",
       " 'bakeoff_opt.spread2': 'ALLCLOSE',\n",
       " 'bakeoff_opt.spread3': 'ALLCLOSE',\n",
       " 'bakeoff_opt.serial': 'ALLCLOSE',\n",
       " 'bakeoff_opt.vs_algorithm64': 'DIFFERENT'}"
      ]
     },
     "execution_count": 5,
     "metadata": {},
     "output_type": "execute_result"
    }
   ],
   "source": [
    "nodes, s_vals = nb_helpers.generate_nodes(63, 513, 1568182051)\n",
    "nb_helpers.verify_implementations(nodes, s_vals)"
   ]
  }
 ],
 "metadata": {
  "kernelspec": {
   "display_name": "Python 3",
   "language": "python",
   "name": "python3"
  },
  "language_info": {
   "codemirror_mode": {
    "name": "ipython",
    "version": 3
   },
   "file_extension": ".py",
   "mimetype": "text/x-python",
   "name": "python",
   "nbconvert_exporter": "python",
   "pygments_lexer": "ipython3",
   "version": "3.7.3"
  }
 },
 "nbformat": 4,
 "nbformat_minor": 2
}
