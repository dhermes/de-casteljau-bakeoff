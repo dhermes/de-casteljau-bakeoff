{
 "cells": [
  {
   "cell_type": "code",
   "execution_count": 1,
   "metadata": {},
   "outputs": [],
   "source": [
    "import nb_helpers"
   ]
  },
  {
   "cell_type": "code",
   "execution_count": 2,
   "metadata": {},
   "outputs": [],
   "source": [
    "nodes, s_vals = nb_helpers.generate_nodes(31, 33, 798031893)"
   ]
  },
  {
   "cell_type": "markdown",
   "metadata": {},
   "source": [
    "# Non-Optimized Implementations"
   ]
  },
  {
   "cell_type": "code",
   "execution_count": 3,
   "metadata": {},
   "outputs": [],
   "source": [
    "timeit_results = []\n",
    "for fn in nb_helpers.BAKEOFF_FUNCTIONS:\n",
    "    name = fn.__name__\n",
    "    timeit_result = %timeit -o -q fn(nodes, s_vals)\n",
    "    timeit_results.append((name, timeit_result))\n",
    "    \n",
    "timeit_results = nb_helpers.sort_results(timeit_results)\n",
    "max_width = max(len(name) for name, _ in timeit_results)"
   ]
  },
  {
   "cell_type": "code",
   "execution_count": 4,
   "metadata": {},
   "outputs": [
    {
     "name": "stdout",
     "output_type": "stream",
     "text": [
      "vs_algorithm: 11.1 µs ± 161 ns per loop (mean ± std. dev. of 7 runs, 100000 loops each)\n",
      "spread1     : 59.6 µs ± 996 ns per loop (mean ± std. dev. of 7 runs, 10000 loops each)\n",
      "forall2     : 63.4 µs ± 1.14 µs per loop (mean ± std. dev. of 7 runs, 10000 loops each)\n",
      "forall3     : 65.8 µs ± 2.38 µs per loop (mean ± std. dev. of 7 runs, 10000 loops each)\n",
      "serial      : 66.7 µs ± 2.27 µs per loop (mean ± std. dev. of 7 runs, 10000 loops each)\n",
      "do3         : 66.8 µs ± 3.28 µs per loop (mean ± std. dev. of 7 runs, 10000 loops each)\n",
      "do2         : 67.6 µs ± 4 µs per loop (mean ± std. dev. of 7 runs, 10000 loops each)\n",
      "forall1     : 74.7 µs ± 1.49 µs per loop (mean ± std. dev. of 7 runs, 10000 loops each)\n",
      "do1         : 76.3 µs ± 1.17 µs per loop (mean ± std. dev. of 7 runs, 10000 loops each)\n",
      "spread2     : 81.8 µs ± 1.07 µs per loop (mean ± std. dev. of 7 runs, 10000 loops each)\n",
      "spread3     : 82.1 µs ± 1.07 µs per loop (mean ± std. dev. of 7 runs, 10000 loops each)\n"
     ]
    }
   ],
   "source": [
    "for name, timeit_result in timeit_results:\n",
    "    print(f\"{name:{max_width}}: {timeit_result}\")"
   ]
  },
  {
   "cell_type": "markdown",
   "metadata": {},
   "source": [
    "# Optimized Implementations"
   ]
  },
  {
   "cell_type": "code",
   "execution_count": 5,
   "metadata": {},
   "outputs": [],
   "source": [
    "timeit_results = []\n",
    "for fn in nb_helpers.BAKEOFF_OPT_FUNCTIONS:\n",
    "    name = fn.__name__\n",
    "    timeit_result = %timeit -o -q fn(nodes, s_vals)\n",
    "    timeit_results.append((name, timeit_result))\n",
    "    \n",
    "timeit_results = nb_helpers.sort_results(timeit_results)\n",
    "max_width = max(len(name) for name, _ in timeit_results)"
   ]
  },
  {
   "cell_type": "code",
   "execution_count": 6,
   "metadata": {},
   "outputs": [
    {
     "name": "stdout",
     "output_type": "stream",
     "text": [
      "vs_algorithm: 7.98 µs ± 175 ns per loop (mean ± std. dev. of 7 runs, 100000 loops each)\n",
      "spread1     : 22.1 µs ± 760 ns per loop (mean ± std. dev. of 7 runs, 10000 loops each)\n",
      "do1         : 36.2 µs ± 1.27 µs per loop (mean ± std. dev. of 7 runs, 10000 loops each)\n",
      "forall1     : 36.2 µs ± 493 ns per loop (mean ± std. dev. of 7 runs, 10000 loops each)\n",
      "do3         : 49.1 µs ± 417 ns per loop (mean ± std. dev. of 7 runs, 10000 loops each)\n",
      "forall3     : 49.6 µs ± 584 ns per loop (mean ± std. dev. of 7 runs, 10000 loops each)\n",
      "serial      : 51.8 µs ± 1.12 µs per loop (mean ± std. dev. of 7 runs, 10000 loops each)\n",
      "forall2     : 52.7 µs ± 536 ns per loop (mean ± std. dev. of 7 runs, 10000 loops each)\n",
      "do2         : 53.3 µs ± 1.23 µs per loop (mean ± std. dev. of 7 runs, 10000 loops each)\n",
      "spread2     : 71.5 µs ± 648 ns per loop (mean ± std. dev. of 7 runs, 10000 loops each)\n",
      "spread3     : 73.8 µs ± 869 ns per loop (mean ± std. dev. of 7 runs, 10000 loops each)\n"
     ]
    }
   ],
   "source": [
    "for name, timeit_result in timeit_results:\n",
    "    print(f\"{name:{max_width}}: {timeit_result}\")"
   ]
  }
 ],
 "metadata": {
  "kernelspec": {
   "display_name": "Python 3",
   "language": "python",
   "name": "python3"
  },
  "language_info": {
   "codemirror_mode": {
    "name": "ipython",
    "version": 3
   },
   "file_extension": ".py",
   "mimetype": "text/x-python",
   "name": "python",
   "nbconvert_exporter": "python",
   "pygments_lexer": "ipython3",
   "version": "3.7.3"
  }
 },
 "nbformat": 4,
 "nbformat_minor": 2
}
