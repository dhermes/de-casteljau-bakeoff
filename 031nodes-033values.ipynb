{
 "cells": [
  {
   "cell_type": "code",
   "execution_count": 1,
   "metadata": {},
   "outputs": [],
   "source": [
    "import nb_helpers"
   ]
  },
  {
   "cell_type": "code",
   "execution_count": 2,
   "metadata": {},
   "outputs": [],
   "source": [
    "num_nodes = 31\n",
    "num_values = 33\n",
    "seed = 798031893\n",
    "results_cache = nb_helpers.get_timeit_results()"
   ]
  },
  {
   "cell_type": "code",
   "execution_count": 3,
   "metadata": {},
   "outputs": [
    {
     "name": "stdout",
     "output_type": "stream",
     "text": [
      "Non-Optimized Implementations\n",
      "-----------------------------\n",
      "vs_algorithm53: 10.4 µs ± 51.5 ns per loop (mean ± std. dev. of 7 runs, 100000 loops each)\n",
      "vs_algorithm32: 10.5 µs ± 84.9 ns per loop (mean ± std. dev. of 7 runs, 100000 loops each)\n",
      "vs_algorithm64: 10.8 µs ± 32.7 ns per loop (mean ± std. dev. of 7 runs, 100000 loops each)\n",
      "spread1       : 55 µs ± 502 ns per loop (mean ± std. dev. of 7 runs, 10000 loops each)\n",
      "forall2       : 59.6 µs ± 424 ns per loop (mean ± std. dev. of 7 runs, 10000 loops each)\n",
      "serial        : 59.9 µs ± 790 ns per loop (mean ± std. dev. of 7 runs, 10000 loops each)\n",
      "forall3       : 60.1 µs ± 520 ns per loop (mean ± std. dev. of 7 runs, 10000 loops each)\n",
      "do2           : 61 µs ± 946 ns per loop (mean ± std. dev. of 7 runs, 10000 loops each)\n",
      "do3           : 61.4 µs ± 442 ns per loop (mean ± std. dev. of 7 runs, 10000 loops each)\n",
      "forall1       : 72.1 µs ± 1.91 µs per loop (mean ± std. dev. of 7 runs, 10000 loops each)\n",
      "do1           : 72.7 µs ± 583 ns per loop (mean ± std. dev. of 7 runs, 10000 loops each)\n",
      "spread2       : 78.4 µs ± 682 ns per loop (mean ± std. dev. of 7 runs, 10000 loops each)\n",
      "spread3       : 78.8 µs ± 620 ns per loop (mean ± std. dev. of 7 runs, 10000 loops each)\n",
      "\n",
      "Optimized Implementations\n",
      "-------------------------\n",
      "vs_algorithm53: 7.95 µs ± 194 ns per loop (mean ± std. dev. of 7 runs, 100000 loops each)\n",
      "vs_algorithm32: 8.04 µs ± 207 ns per loop (mean ± std. dev. of 7 runs, 100000 loops each)\n",
      "vs_algorithm64: 8.15 µs ± 130 ns per loop (mean ± std. dev. of 7 runs, 100000 loops each)\n",
      "spread1       : 21.6 µs ± 610 ns per loop (mean ± std. dev. of 7 runs, 10000 loops each)\n",
      "forall1       : 35.3 µs ± 422 ns per loop (mean ± std. dev. of 7 runs, 10000 loops each)\n",
      "do1           : 35.6 µs ± 419 ns per loop (mean ± std. dev. of 7 runs, 10000 loops each)\n",
      "forall3       : 48.6 µs ± 690 ns per loop (mean ± std. dev. of 7 runs, 10000 loops each)\n",
      "serial        : 49.8 µs ± 958 ns per loop (mean ± std. dev. of 7 runs, 10000 loops each)\n",
      "do3           : 50.3 µs ± 737 ns per loop (mean ± std. dev. of 7 runs, 10000 loops each)\n",
      "do2           : 51.7 µs ± 503 ns per loop (mean ± std. dev. of 7 runs, 10000 loops each)\n",
      "forall2       : 52.5 µs ± 877 ns per loop (mean ± std. dev. of 7 runs, 10000 loops each)\n",
      "spread2       : 69.9 µs ± 761 ns per loop (mean ± std. dev. of 7 runs, 10000 loops each)\n",
      "spread3       : 73.6 µs ± 1.16 µs per loop (mean ± std. dev. of 7 runs, 10000 loops each)\n"
     ]
    }
   ],
   "source": [
    "nb_helpers.compare_bakeoff_times(\n",
    "    get_ipython, results_cache, num_nodes, num_values, seed\n",
    ")"
   ]
  },
  {
   "cell_type": "code",
   "execution_count": 4,
   "metadata": {},
   "outputs": [],
   "source": [
    "nb_helpers.store_timeit_results(results_cache)"
   ]
  }
 ],
 "metadata": {
  "kernelspec": {
   "display_name": "Python 3",
   "language": "python",
   "name": "python3"
  },
  "language_info": {
   "codemirror_mode": {
    "name": "ipython",
    "version": 3
   },
   "file_extension": ".py",
   "mimetype": "text/x-python",
   "name": "python",
   "nbconvert_exporter": "python",
   "pygments_lexer": "ipython3",
   "version": "3.7.3"
  }
 },
 "nbformat": 4,
 "nbformat_minor": 2
}
