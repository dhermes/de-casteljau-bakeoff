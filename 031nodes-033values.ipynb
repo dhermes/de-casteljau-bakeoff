{
 "cells": [
  {
   "cell_type": "code",
   "execution_count": 1,
   "metadata": {},
   "outputs": [],
   "source": [
    "import nb_helpers"
   ]
  },
  {
   "cell_type": "code",
   "execution_count": 2,
   "metadata": {},
   "outputs": [],
   "source": [
    "nodes, s_vals = nb_helpers.generate_nodes(31, 33, 798031893)"
   ]
  },
  {
   "cell_type": "markdown",
   "metadata": {},
   "source": [
    "# Non-Optimized Implementations"
   ]
  },
  {
   "cell_type": "code",
   "execution_count": 3,
   "metadata": {},
   "outputs": [],
   "source": [
    "timeit_results = []\n",
    "for fn in nb_helpers.BAKEOFF_FUNCTIONS:\n",
    "    name = fn.__name__\n",
    "    timeit_result = %timeit -o -q fn(nodes, s_vals)\n",
    "    timeit_results.append((name, timeit_result))\n",
    "    \n",
    "timeit_results = nb_helpers.sort_results(timeit_results)\n",
    "max_width = max(len(name) for name, _ in timeit_results)"
   ]
  },
  {
   "cell_type": "code",
   "execution_count": 4,
   "metadata": {},
   "outputs": [
    {
     "name": "stdout",
     "output_type": "stream",
     "text": [
      "vs_algorithm53: 10.7 µs ± 65.4 ns per loop (mean ± std. dev. of 7 runs, 100000 loops each)\n",
      "vs_algorithm32: 10.8 µs ± 160 ns per loop (mean ± std. dev. of 7 runs, 100000 loops each)\n",
      "vs_algorithm64: 10.9 µs ± 77.1 ns per loop (mean ± std. dev. of 7 runs, 100000 loops each)\n",
      "spread1       : 55.8 µs ± 626 ns per loop (mean ± std. dev. of 7 runs, 10000 loops each)\n",
      "forall2       : 61.1 µs ± 643 ns per loop (mean ± std. dev. of 7 runs, 10000 loops each)\n",
      "serial        : 61.2 µs ± 870 ns per loop (mean ± std. dev. of 7 runs, 10000 loops each)\n",
      "do3           : 61.6 µs ± 637 ns per loop (mean ± std. dev. of 7 runs, 10000 loops each)\n",
      "do2           : 61.8 µs ± 941 ns per loop (mean ± std. dev. of 7 runs, 10000 loops each)\n",
      "forall3       : 61.9 µs ± 859 ns per loop (mean ± std. dev. of 7 runs, 10000 loops each)\n",
      "do1           : 73.5 µs ± 758 ns per loop (mean ± std. dev. of 7 runs, 10000 loops each)\n",
      "spread2       : 78.9 µs ± 1.49 µs per loop (mean ± std. dev. of 7 runs, 10000 loops each)\n",
      "spread3       : 80.4 µs ± 434 ns per loop (mean ± std. dev. of 7 runs, 10000 loops each)\n",
      "forall1       : 82.6 µs ± 8.46 µs per loop (mean ± std. dev. of 7 runs, 10000 loops each)\n"
     ]
    }
   ],
   "source": [
    "for name, timeit_result in timeit_results:\n",
    "    print(f\"{name:{max_width}}: {timeit_result}\")"
   ]
  },
  {
   "cell_type": "markdown",
   "metadata": {},
   "source": [
    "# Optimized Implementations"
   ]
  },
  {
   "cell_type": "code",
   "execution_count": 5,
   "metadata": {},
   "outputs": [],
   "source": [
    "timeit_results = []\n",
    "for fn in nb_helpers.BAKEOFF_OPT_FUNCTIONS:\n",
    "    name = fn.__name__\n",
    "    timeit_result = %timeit -o -q fn(nodes, s_vals)\n",
    "    timeit_results.append((name, timeit_result))\n",
    "    \n",
    "timeit_results = nb_helpers.sort_results(timeit_results)\n",
    "max_width = max(len(name) for name, _ in timeit_results)"
   ]
  },
  {
   "cell_type": "code",
   "execution_count": 6,
   "metadata": {},
   "outputs": [
    {
     "name": "stdout",
     "output_type": "stream",
     "text": [
      "vs_algorithm53: 7.55 µs ± 60 ns per loop (mean ± std. dev. of 7 runs, 100000 loops each)\n",
      "vs_algorithm32: 7.6 µs ± 132 ns per loop (mean ± std. dev. of 7 runs, 100000 loops each)\n",
      "vs_algorithm64: 7.62 µs ± 62.8 ns per loop (mean ± std. dev. of 7 runs, 100000 loops each)\n",
      "spread1       : 23.3 µs ± 1.81 µs per loop (mean ± std. dev. of 7 runs, 10000 loops each)\n",
      "forall1       : 34.9 µs ± 373 ns per loop (mean ± std. dev. of 7 runs, 10000 loops each)\n",
      "do1           : 35.2 µs ± 442 ns per loop (mean ± std. dev. of 7 runs, 10000 loops each)\n",
      "forall3       : 48.8 µs ± 719 ns per loop (mean ± std. dev. of 7 runs, 10000 loops each)\n",
      "serial        : 49.2 µs ± 1.17 µs per loop (mean ± std. dev. of 7 runs, 10000 loops each)\n",
      "do3           : 51.8 µs ± 2.11 µs per loop (mean ± std. dev. of 7 runs, 10000 loops each)\n",
      "forall2       : 52.4 µs ± 452 ns per loop (mean ± std. dev. of 7 runs, 10000 loops each)\n",
      "do2           : 54 µs ± 4.63 µs per loop (mean ± std. dev. of 7 runs, 10000 loops each)\n",
      "spread3       : 72.7 µs ± 571 ns per loop (mean ± std. dev. of 7 runs, 10000 loops each)\n",
      "spread2       : 76.6 µs ± 5.83 µs per loop (mean ± std. dev. of 7 runs, 10000 loops each)\n"
     ]
    }
   ],
   "source": [
    "for name, timeit_result in timeit_results:\n",
    "    print(f\"{name:{max_width}}: {timeit_result}\")"
   ]
  }
 ],
 "metadata": {
  "kernelspec": {
   "display_name": "Python 3",
   "language": "python",
   "name": "python3"
  },
  "language_info": {
   "codemirror_mode": {
    "name": "ipython",
    "version": 3
   },
   "file_extension": ".py",
   "mimetype": "text/x-python",
   "name": "python",
   "nbconvert_exporter": "python",
   "pygments_lexer": "ipython3",
   "version": "3.7.3"
  }
 },
 "nbformat": 4,
 "nbformat_minor": 2
}
