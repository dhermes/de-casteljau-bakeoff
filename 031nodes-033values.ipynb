{
 "cells": [
  {
   "cell_type": "code",
   "execution_count": 1,
   "metadata": {},
   "outputs": [],
   "source": [
    "import nb_helpers"
   ]
  },
  {
   "cell_type": "code",
   "execution_count": 2,
   "metadata": {},
   "outputs": [],
   "source": [
    "nodes, s_vals = nb_helpers.generate_nodes(31, 33, 798031893)"
   ]
  },
  {
   "cell_type": "markdown",
   "metadata": {},
   "source": [
    "# Non-Optimized Implementations"
   ]
  },
  {
   "cell_type": "code",
   "execution_count": 3,
   "metadata": {},
   "outputs": [],
   "source": [
    "timeit_results = []\n",
    "for fn in nb_helpers.BAKEOFF_FUNCTIONS:\n",
    "    name = fn.__name__\n",
    "    timeit_result = %timeit -o -q fn(nodes, s_vals)\n",
    "    timeit_results.append((name, timeit_result))\n",
    "    \n",
    "timeit_results = nb_helpers.sort_results(timeit_results)\n",
    "max_width = max(len(name) for name, _ in timeit_results)"
   ]
  },
  {
   "cell_type": "code",
   "execution_count": 4,
   "metadata": {},
   "outputs": [
    {
     "name": "stdout",
     "output_type": "stream",
     "text": [
      "spread1: 57.8 µs ± 1.19 µs per loop (mean ± std. dev. of 7 runs, 10000 loops each)\n",
      "forall3: 63.1 µs ± 770 ns per loop (mean ± std. dev. of 7 runs, 10000 loops each)\n",
      "do2    : 63.4 µs ± 1.18 µs per loop (mean ± std. dev. of 7 runs, 10000 loops each)\n",
      "do3    : 63.9 µs ± 637 ns per loop (mean ± std. dev. of 7 runs, 10000 loops each)\n",
      "serial : 64.1 µs ± 1.38 µs per loop (mean ± std. dev. of 7 runs, 10000 loops each)\n",
      "forall2: 66.6 µs ± 4.07 µs per loop (mean ± std. dev. of 7 runs, 10000 loops each)\n",
      "do1    : 75.9 µs ± 1.38 µs per loop (mean ± std. dev. of 7 runs, 10000 loops each)\n",
      "forall1: 81.2 µs ± 5.55 µs per loop (mean ± std. dev. of 7 runs, 10000 loops each)\n",
      "spread2: 81.8 µs ± 875 ns per loop (mean ± std. dev. of 7 runs, 10000 loops each)\n",
      "spread3: 83.1 µs ± 1.07 µs per loop (mean ± std. dev. of 7 runs, 10000 loops each)\n"
     ]
    }
   ],
   "source": [
    "for name, timeit_result in timeit_results:\n",
    "    print(f\"{name:{max_width}}: {timeit_result}\")"
   ]
  },
  {
   "cell_type": "markdown",
   "metadata": {},
   "source": [
    "# Optimized Implementations"
   ]
  },
  {
   "cell_type": "code",
   "execution_count": 5,
   "metadata": {},
   "outputs": [],
   "source": [
    "timeit_results = []\n",
    "for fn in nb_helpers.BAKEOFF_OPT_FUNCTIONS:\n",
    "    name = fn.__name__\n",
    "    timeit_result = %timeit -o -q fn(nodes, s_vals)\n",
    "    timeit_results.append((name, timeit_result))\n",
    "    \n",
    "timeit_results = nb_helpers.sort_results(timeit_results)\n",
    "max_width = max(len(name) for name, _ in timeit_results)"
   ]
  },
  {
   "cell_type": "code",
   "execution_count": 6,
   "metadata": {},
   "outputs": [
    {
     "name": "stdout",
     "output_type": "stream",
     "text": [
      "spread1: 22.3 µs ± 763 ns per loop (mean ± std. dev. of 7 runs, 10000 loops each)\n",
      "forall1: 36.3 µs ± 631 ns per loop (mean ± std. dev. of 7 runs, 10000 loops each)\n",
      "do1    : 36.4 µs ± 346 ns per loop (mean ± std. dev. of 7 runs, 10000 loops each)\n",
      "forall3: 50.1 µs ± 1.05 µs per loop (mean ± std. dev. of 7 runs, 10000 loops each)\n",
      "serial : 50.6 µs ± 887 ns per loop (mean ± std. dev. of 7 runs, 10000 loops each)\n",
      "do3    : 51.5 µs ± 817 ns per loop (mean ± std. dev. of 7 runs, 10000 loops each)\n",
      "do2    : 53.3 µs ± 529 ns per loop (mean ± std. dev. of 7 runs, 10000 loops each)\n",
      "forall2: 54.4 µs ± 634 ns per loop (mean ± std. dev. of 7 runs, 10000 loops each)\n",
      "spread2: 72.5 µs ± 582 ns per loop (mean ± std. dev. of 7 runs, 10000 loops each)\n",
      "spread3: 73.8 µs ± 1.31 µs per loop (mean ± std. dev. of 7 runs, 10000 loops each)\n"
     ]
    }
   ],
   "source": [
    "for name, timeit_result in timeit_results:\n",
    "    print(f\"{name:{max_width}}: {timeit_result}\")"
   ]
  }
 ],
 "metadata": {
  "kernelspec": {
   "display_name": "Python 3",
   "language": "python",
   "name": "python3"
  },
  "language_info": {
   "codemirror_mode": {
    "name": "ipython",
    "version": 3
   },
   "file_extension": ".py",
   "mimetype": "text/x-python",
   "name": "python",
   "nbconvert_exporter": "python",
   "pygments_lexer": "ipython3",
   "version": "3.7.3"
  }
 },
 "nbformat": 4,
 "nbformat_minor": 2
}
