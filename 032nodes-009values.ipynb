{
 "cells": [
  {
   "cell_type": "code",
   "execution_count": 1,
   "metadata": {},
   "outputs": [],
   "source": [
    "import nb_helpers"
   ]
  },
  {
   "cell_type": "code",
   "execution_count": 2,
   "metadata": {},
   "outputs": [],
   "source": [
    "nodes, s_vals = nb_helpers.generate_nodes(32, 9, 3956971945)"
   ]
  },
  {
   "cell_type": "markdown",
   "metadata": {},
   "source": [
    "# Non-Optimized Implementations"
   ]
  },
  {
   "cell_type": "code",
   "execution_count": 3,
   "metadata": {},
   "outputs": [],
   "source": [
    "timeit_results = []\n",
    "for fn in nb_helpers.BAKEOFF_FUNCTIONS:\n",
    "    name = fn.__name__\n",
    "    timeit_result = %timeit -o -q fn(nodes, s_vals)\n",
    "    timeit_results.append((name, timeit_result))\n",
    "    \n",
    "timeit_results = nb_helpers.sort_results(timeit_results)\n",
    "max_width = max(len(name) for name, _ in timeit_results)"
   ]
  },
  {
   "cell_type": "code",
   "execution_count": 4,
   "metadata": {},
   "outputs": [
    {
     "name": "stdout",
     "output_type": "stream",
     "text": [
      "vs_algorithm: 7.12 µs ± 154 ns per loop (mean ± std. dev. of 7 runs, 100000 loops each)\n",
      "do3         : 21.9 µs ± 335 ns per loop (mean ± std. dev. of 7 runs, 10000 loops each)\n",
      "serial      : 22 µs ± 282 ns per loop (mean ± std. dev. of 7 runs, 10000 loops each)\n",
      "spread1     : 22.2 µs ± 473 ns per loop (mean ± std. dev. of 7 runs, 10000 loops each)\n",
      "do2         : 22.2 µs ± 762 ns per loop (mean ± std. dev. of 7 runs, 10000 loops each)\n",
      "forall3     : 22.6 µs ± 694 ns per loop (mean ± std. dev. of 7 runs, 10000 loops each)\n",
      "forall2     : 23.4 µs ± 1.12 µs per loop (mean ± std. dev. of 7 runs, 10000 loops each)\n",
      "do1         : 25.1 µs ± 400 ns per loop (mean ± std. dev. of 7 runs, 10000 loops each)\n",
      "forall1     : 26.4 µs ± 1.4 µs per loop (mean ± std. dev. of 7 runs, 10000 loops each)\n",
      "spread3     : 27.4 µs ± 796 ns per loop (mean ± std. dev. of 7 runs, 10000 loops each)\n",
      "spread2     : 27.5 µs ± 371 ns per loop (mean ± std. dev. of 7 runs, 10000 loops each)\n"
     ]
    }
   ],
   "source": [
    "for name, timeit_result in timeit_results:\n",
    "    print(f\"{name:{max_width}}: {timeit_result}\")"
   ]
  },
  {
   "cell_type": "markdown",
   "metadata": {},
   "source": [
    "# Optimized Implementations"
   ]
  },
  {
   "cell_type": "code",
   "execution_count": 5,
   "metadata": {},
   "outputs": [],
   "source": [
    "timeit_results = []\n",
    "for fn in nb_helpers.BAKEOFF_OPT_FUNCTIONS:\n",
    "    name = fn.__name__\n",
    "    timeit_result = %timeit -o -q fn(nodes, s_vals)\n",
    "    timeit_results.append((name, timeit_result))\n",
    "    \n",
    "timeit_results = nb_helpers.sort_results(timeit_results)\n",
    "max_width = max(len(name) for name, _ in timeit_results)"
   ]
  },
  {
   "cell_type": "code",
   "execution_count": 6,
   "metadata": {},
   "outputs": [
    {
     "name": "stdout",
     "output_type": "stream",
     "text": [
      "vs_algorithm: 6.2 µs ± 57.7 ns per loop (mean ± std. dev. of 7 runs, 100000 loops each)\n",
      "spread1     : 13.4 µs ± 118 ns per loop (mean ± std. dev. of 7 runs, 100000 loops each)\n",
      "forall1     : 14.5 µs ± 75.7 ns per loop (mean ± std. dev. of 7 runs, 100000 loops each)\n",
      "do1         : 14.7 µs ± 169 ns per loop (mean ± std. dev. of 7 runs, 100000 loops each)\n",
      "forall3     : 18.2 µs ± 85.1 ns per loop (mean ± std. dev. of 7 runs, 100000 loops each)\n",
      "serial      : 18.3 µs ± 171 ns per loop (mean ± std. dev. of 7 runs, 100000 loops each)\n",
      "do3         : 18.3 µs ± 144 ns per loop (mean ± std. dev. of 7 runs, 100000 loops each)\n",
      "forall2     : 19.1 µs ± 141 ns per loop (mean ± std. dev. of 7 runs, 100000 loops each)\n",
      "do2         : 19.2 µs ± 169 ns per loop (mean ± std. dev. of 7 runs, 100000 loops each)\n",
      "spread2     : 24.7 µs ± 589 ns per loop (mean ± std. dev. of 7 runs, 10000 loops each)\n",
      "spread3     : 25.2 µs ± 530 ns per loop (mean ± std. dev. of 7 runs, 10000 loops each)\n"
     ]
    }
   ],
   "source": [
    "for name, timeit_result in timeit_results:\n",
    "    print(f\"{name:{max_width}}: {timeit_result}\")"
   ]
  }
 ],
 "metadata": {
  "kernelspec": {
   "display_name": "Python 3",
   "language": "python",
   "name": "python3"
  },
  "language_info": {
   "codemirror_mode": {
    "name": "ipython",
    "version": 3
   },
   "file_extension": ".py",
   "mimetype": "text/x-python",
   "name": "python",
   "nbconvert_exporter": "python",
   "pygments_lexer": "ipython3",
   "version": "3.7.3"
  }
 },
 "nbformat": 4,
 "nbformat_minor": 2
}
