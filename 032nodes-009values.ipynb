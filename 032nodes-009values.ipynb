{
 "cells": [
  {
   "cell_type": "code",
   "execution_count": 1,
   "metadata": {},
   "outputs": [],
   "source": [
    "import nb_helpers"
   ]
  },
  {
   "cell_type": "code",
   "execution_count": 2,
   "metadata": {},
   "outputs": [],
   "source": [
    "nodes, s_vals = nb_helpers.generate_nodes(32, 9, 3956971945)"
   ]
  },
  {
   "cell_type": "markdown",
   "metadata": {},
   "source": [
    "# Non-Optimized Implementations"
   ]
  },
  {
   "cell_type": "code",
   "execution_count": 3,
   "metadata": {},
   "outputs": [],
   "source": [
    "timeit_results = []\n",
    "for fn in nb_helpers.BAKEOFF_FUNCTIONS:\n",
    "    name = fn.__name__\n",
    "    timeit_result = %timeit -o -q fn(nodes, s_vals)\n",
    "    timeit_results.append((name, timeit_result))\n",
    "    \n",
    "timeit_results = nb_helpers.sort_results(timeit_results)\n",
    "max_width = max(len(name) for name, _ in timeit_results)"
   ]
  },
  {
   "cell_type": "code",
   "execution_count": 4,
   "metadata": {},
   "outputs": [
    {
     "name": "stdout",
     "output_type": "stream",
     "text": [
      "vs_algorithm53: 6.77 µs ± 206 ns per loop (mean ± std. dev. of 7 runs, 100000 loops each)\n",
      "vs_algorithm64: 6.86 µs ± 69.2 ns per loop (mean ± std. dev. of 7 runs, 100000 loops each)\n",
      "vs_algorithm32: 7.01 µs ± 461 ns per loop (mean ± std. dev. of 7 runs, 100000 loops each)\n",
      "spread1       : 21.9 µs ± 864 ns per loop (mean ± std. dev. of 7 runs, 10000 loops each)\n",
      "forall2       : 21.9 µs ± 1.19 µs per loop (mean ± std. dev. of 7 runs, 10000 loops each)\n",
      "do3           : 22 µs ± 688 ns per loop (mean ± std. dev. of 7 runs, 10000 loops each)\n",
      "serial        : 22.9 µs ± 1.73 µs per loop (mean ± std. dev. of 7 runs, 10000 loops each)\n",
      "do2           : 23.9 µs ± 1.73 µs per loop (mean ± std. dev. of 7 runs, 10000 loops each)\n",
      "forall3       : 25.3 µs ± 1.72 µs per loop (mean ± std. dev. of 7 runs, 10000 loops each)\n",
      "forall1       : 25.7 µs ± 1.89 µs per loop (mean ± std. dev. of 7 runs, 10000 loops each)\n",
      "spread2       : 26.9 µs ± 661 ns per loop (mean ± std. dev. of 7 runs, 10000 loops each)\n",
      "spread3       : 27.4 µs ± 616 ns per loop (mean ± std. dev. of 7 runs, 10000 loops each)\n",
      "do1           : 28 µs ± 2.33 µs per loop (mean ± std. dev. of 7 runs, 10000 loops each)\n"
     ]
    }
   ],
   "source": [
    "for name, timeit_result in timeit_results:\n",
    "    print(f\"{name:{max_width}}: {timeit_result}\")"
   ]
  },
  {
   "cell_type": "markdown",
   "metadata": {},
   "source": [
    "# Optimized Implementations"
   ]
  },
  {
   "cell_type": "code",
   "execution_count": 5,
   "metadata": {},
   "outputs": [],
   "source": [
    "timeit_results = []\n",
    "for fn in nb_helpers.BAKEOFF_OPT_FUNCTIONS:\n",
    "    name = fn.__name__\n",
    "    timeit_result = %timeit -o -q fn(nodes, s_vals)\n",
    "    timeit_results.append((name, timeit_result))\n",
    "    \n",
    "timeit_results = nb_helpers.sort_results(timeit_results)\n",
    "max_width = max(len(name) for name, _ in timeit_results)"
   ]
  },
  {
   "cell_type": "code",
   "execution_count": 6,
   "metadata": {},
   "outputs": [
    {
     "name": "stdout",
     "output_type": "stream",
     "text": [
      "vs_algorithm53: 5.94 µs ± 39.1 ns per loop (mean ± std. dev. of 7 runs, 100000 loops each)\n",
      "vs_algorithm32: 5.95 µs ± 51.6 ns per loop (mean ± std. dev. of 7 runs, 100000 loops each)\n",
      "vs_algorithm64: 6.1 µs ± 96.3 ns per loop (mean ± std. dev. of 7 runs, 100000 loops each)\n",
      "spread1       : 14 µs ± 425 ns per loop (mean ± std. dev. of 7 runs, 100000 loops each)\n",
      "do1           : 14.6 µs ± 184 ns per loop (mean ± std. dev. of 7 runs, 100000 loops each)\n",
      "forall1       : 14.9 µs ± 394 ns per loop (mean ± std. dev. of 7 runs, 100000 loops each)\n",
      "serial        : 17.9 µs ± 137 ns per loop (mean ± std. dev. of 7 runs, 100000 loops each)\n",
      "forall3       : 18.3 µs ± 112 ns per loop (mean ± std. dev. of 7 runs, 100000 loops each)\n",
      "do3           : 18.6 µs ± 92.1 ns per loop (mean ± std. dev. of 7 runs, 100000 loops each)\n",
      "do2           : 19 µs ± 180 ns per loop (mean ± std. dev. of 7 runs, 100000 loops each)\n",
      "forall2       : 19.5 µs ± 195 ns per loop (mean ± std. dev. of 7 runs, 100000 loops each)\n",
      "spread2       : 25.9 µs ± 1.41 µs per loop (mean ± std. dev. of 7 runs, 10000 loops each)\n",
      "spread3       : 26.3 µs ± 759 ns per loop (mean ± std. dev. of 7 runs, 10000 loops each)\n"
     ]
    }
   ],
   "source": [
    "for name, timeit_result in timeit_results:\n",
    "    print(f\"{name:{max_width}}: {timeit_result}\")"
   ]
  }
 ],
 "metadata": {
  "kernelspec": {
   "display_name": "Python 3",
   "language": "python",
   "name": "python3"
  },
  "language_info": {
   "codemirror_mode": {
    "name": "ipython",
    "version": 3
   },
   "file_extension": ".py",
   "mimetype": "text/x-python",
   "name": "python",
   "nbconvert_exporter": "python",
   "pygments_lexer": "ipython3",
   "version": "3.7.3"
  }
 },
 "nbformat": 4,
 "nbformat_minor": 2
}
