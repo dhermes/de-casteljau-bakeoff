{
 "cells": [
  {
   "cell_type": "code",
   "execution_count": 1,
   "metadata": {},
   "outputs": [],
   "source": [
    "import nb_helpers"
   ]
  },
  {
   "cell_type": "code",
   "execution_count": 2,
   "metadata": {},
   "outputs": [],
   "source": [
    "num_nodes = 32\n",
    "num_values = 9\n",
    "seed = 3956971945\n",
    "results_cache = nb_helpers.get_timeit_results()"
   ]
  },
  {
   "cell_type": "code",
   "execution_count": 3,
   "metadata": {},
   "outputs": [
    {
     "name": "stdout",
     "output_type": "stream",
     "text": [
      "Non-Optimized Implementations\n",
      "-----------------------------\n",
      "vs_algorithm53: 6.64 µs ± 47.1 ns per loop (mean ± std. dev. of 7 runs, 100000 loops each)\n",
      "vs_algorithm32: 6.66 µs ± 38 ns per loop (mean ± std. dev. of 7 runs, 100000 loops each)\n",
      "vs_algorithm64: 6.91 µs ± 75.8 ns per loop (mean ± std. dev. of 7 runs, 100000 loops each)\n",
      "do2           : 21.4 µs ± 289 ns per loop (mean ± std. dev. of 7 runs, 10000 loops each)\n",
      "do3           : 21.5 µs ± 412 ns per loop (mean ± std. dev. of 7 runs, 10000 loops each)\n",
      "forall2       : 21.6 µs ± 515 ns per loop (mean ± std. dev. of 7 runs, 10000 loops each)\n",
      "serial        : 21.7 µs ± 451 ns per loop (mean ± std. dev. of 7 runs, 10000 loops each)\n",
      "spread1       : 21.8 µs ± 184 ns per loop (mean ± std. dev. of 7 runs, 10000 loops each)\n",
      "forall3       : 23.1 µs ± 1.43 µs per loop (mean ± std. dev. of 7 runs, 10000 loops each)\n",
      "forall1       : 24.5 µs ± 310 ns per loop (mean ± std. dev. of 7 runs, 10000 loops each)\n",
      "do1           : 25.2 µs ± 514 ns per loop (mean ± std. dev. of 7 runs, 10000 loops each)\n",
      "spread2       : 26.5 µs ± 219 ns per loop (mean ± std. dev. of 7 runs, 10000 loops each)\n",
      "spread3       : 27 µs ± 556 ns per loop (mean ± std. dev. of 7 runs, 10000 loops each)\n",
      "\n",
      "Optimized Implementations\n",
      "-------------------------\n",
      "vs_algorithm53: 5.96 µs ± 130 ns per loop (mean ± std. dev. of 7 runs, 100000 loops each)\n",
      "vs_algorithm32: 5.98 µs ± 84 ns per loop (mean ± std. dev. of 7 runs, 100000 loops each)\n",
      "vs_algorithm64: 6.3 µs ± 127 ns per loop (mean ± std. dev. of 7 runs, 100000 loops each)\n",
      "spread1       : 13.5 µs ± 214 ns per loop (mean ± std. dev. of 7 runs, 100000 loops each)\n",
      "do1           : 14.5 µs ± 88 ns per loop (mean ± std. dev. of 7 runs, 100000 loops each)\n",
      "forall1       : 14.5 µs ± 147 ns per loop (mean ± std. dev. of 7 runs, 100000 loops each)\n",
      "forall3       : 18.2 µs ± 219 ns per loop (mean ± std. dev. of 7 runs, 100000 loops each)\n",
      "do3           : 18.6 µs ± 142 ns per loop (mean ± std. dev. of 7 runs, 100000 loops each)\n",
      "serial        : 18.7 µs ± 570 ns per loop (mean ± std. dev. of 7 runs, 100000 loops each)\n",
      "do2           : 19 µs ± 205 ns per loop (mean ± std. dev. of 7 runs, 100000 loops each)\n",
      "forall2       : 19.4 µs ± 162 ns per loop (mean ± std. dev. of 7 runs, 100000 loops each)\n",
      "spread2       : 25.9 µs ± 1.44 µs per loop (mean ± std. dev. of 7 runs, 10000 loops each)\n",
      "spread3       : 26.4 µs ± 799 ns per loop (mean ± std. dev. of 7 runs, 10000 loops each)\n"
     ]
    }
   ],
   "source": [
    "nb_helpers.compare_bakeoff_times(\n",
    "    get_ipython, results_cache, num_nodes, num_values, seed\n",
    ")"
   ]
  },
  {
   "cell_type": "code",
   "execution_count": 4,
   "metadata": {},
   "outputs": [],
   "source": [
    "nb_helpers.store_timeit_results(results_cache)"
   ]
  }
 ],
 "metadata": {
  "kernelspec": {
   "display_name": "Python 3",
   "language": "python",
   "name": "python3"
  },
  "language_info": {
   "codemirror_mode": {
    "name": "ipython",
    "version": 3
   },
   "file_extension": ".py",
   "mimetype": "text/x-python",
   "name": "python",
   "nbconvert_exporter": "python",
   "pygments_lexer": "ipython3",
   "version": "3.7.3"
  }
 },
 "nbformat": 4,
 "nbformat_minor": 2
}
