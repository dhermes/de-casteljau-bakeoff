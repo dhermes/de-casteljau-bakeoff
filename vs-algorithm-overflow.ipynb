{
 "cells": [
  {
   "cell_type": "code",
   "execution_count": 1,
   "metadata": {},
   "outputs": [],
   "source": [
    "import fractions\n",
    "\n",
    "import numpy as np"
   ]
  },
  {
   "cell_type": "code",
   "execution_count": 2,
   "metadata": {},
   "outputs": [
    {
     "name": "stdout",
     "output_type": "stream",
     "text": [
      "numpy.__version__: 1.18.0\n"
     ]
    }
   ],
   "source": [
    "print(f\"numpy.__version__: {np.__version__}\")"
   ]
  },
  {
   "cell_type": "markdown",
   "metadata": {},
   "source": [
    "When using the [VS algorithm][1], it's necessary to compute $\\binom{n}{k}$. When using Python, one can use an `int`, which has effectively infinite precision, but when using Fortran or C++ for speed, these values can overflow.\n",
    "\n",
    "In order to avoid storing past values, a single value is tracked and updated via\n",
    "$$\\binom{n}{k + 1} = \\frac{n - k}{k + 1} \\binom{n}{k}.$$\n",
    "When using this algorithm, the \"numerators\" $(n - k) \\binom{n}{k}$ may begin to overflow before the values $\\binom{n}{k + 1}$ themselves do. (Though once an $n$ is reached where a numerator overflows, the values will overflow at $n + \\Delta$ for a very small $\\Delta$.)\n",
    "\n",
    "[1]: https://doi.org/10.1016/0167-8396(86)90018-X"
   ]
  },
  {
   "cell_type": "code",
   "execution_count": 3,
   "metadata": {},
   "outputs": [],
   "source": [
    "def pascals_triangle(n, dtype):\n",
    "    is_python_int = dtype is int\n",
    "\n",
    "    shape = (n + 1,)\n",
    "    zeros_dtype = object if is_python_int else dtype\n",
    "    triangle_row = np.zeros(shape, dtype=zeros_dtype)\n",
    "    n_value = dtype(n)\n",
    "\n",
    "    triangle_row[0] = dtype(1)\n",
    "    for k in range(n):\n",
    "        k_value = dtype(k)\n",
    "        numerator = triangle_row[k] * (n_value - k_value)\n",
    "        denominator = k_value + 1\n",
    "        if is_python_int:\n",
    "            quotient, remainder = divmod(numerator, denominator)\n",
    "            if remainder != 0:\n",
    "                raise ValueError(\"Unexpected rounding\", n, k)\n",
    "            triangle_row[k + 1] = quotient\n",
    "        else:\n",
    "            triangle_row[k + 1] = numerator / denominator\n",
    "\n",
    "    return triangle_row"
   ]
  },
  {
   "cell_type": "markdown",
   "metadata": {},
   "source": [
    "## Fortran `c_int` / `c_int32_t`\n",
    "\n",
    "A 32-bit **signed** integer has maximum value $2^{31} - 1$. The first overflow occurs when computing $\\binom{30}{15}$:\n",
    "$$16 \\binom{30}{14} = 2^{31} + 179279152.$$\n",
    "The first entry in Pascal's triangle to overflow the type is\n",
    "$$\\binom{34}{16} = 2^{31} + 56477782.$$"
   ]
  },
  {
   "cell_type": "code",
   "execution_count": 4,
   "metadata": {},
   "outputs": [
    {
     "name": "stdout",
     "output_type": "stream",
     "text": [
      "Machine parameters for int32\n",
      "---------------------------------------------------------------\n",
      "min = -2147483648\n",
      "max = 2147483647\n",
      "---------------------------------------------------------------\n",
      "2^{31} - 1 = 2147483647\n"
     ]
    }
   ],
   "source": [
    "print(np.iinfo(np.intc), end=\"\")\n",
    "print(f\"2^{{31}} - 1 = {2**31 - 1}\")"
   ]
  },
  {
   "cell_type": "code",
   "execution_count": 5,
   "metadata": {},
   "outputs": [
    {
     "name": "stdout",
     "output_type": "stream",
     "text": [
      "[1 1]\n",
      "[1 3 3 1]\n",
      "[       1       29      406     3654    23751   118755   475020  1560780\n",
      "  4292145 10015005 20030010 34597290 51895935 67863915 77558760 77558760\n",
      " 67863915 51895935 34597290 20030010 10015005  4292145  1560780   475020\n",
      "   118755    23751     3654      406       29        1]\n"
     ]
    }
   ],
   "source": [
    "print(pascals_triangle(1, dtype=np.intc))\n",
    "print(pascals_triangle(3, dtype=np.intc))\n",
    "print(pascals_triangle(29, dtype=np.intc))"
   ]
  },
  {
   "cell_type": "code",
   "execution_count": 6,
   "metadata": {},
   "outputs": [
    {
     "name": "stdout",
     "output_type": "stream",
     "text": [
      "[         1         30        435       4060      27405     142506\n",
      "     593775    2035800    5852925   14307150   30045015   54627300\n",
      "   86493225  119759850  145422675 -131213633 -123012780 -101304642\n",
      "  -73164463  -46209134  -25415023  -12102391   -4950978   -1722079\n",
      "    -502273    -120545     -23181      -3434       -367        -25\n",
      "          0]\n"
     ]
    },
    {
     "name": "stderr",
     "output_type": "stream",
     "text": [
      "${HERE}/.venv/lib/python3.7/site-packages/ipykernel_launcher.py:12: RuntimeWarning: overflow encountered in int_scalars\n",
      "  if sys.path[0] == '':\n"
     ]
    }
   ],
   "source": [
    "print(pascals_triangle(30, dtype=np.intc))"
   ]
  },
  {
   "cell_type": "markdown",
   "metadata": {},
   "source": [
    "## Fortran `c_int64_t`\n",
    "\n",
    "A 64-bit **signed** integer has maximum value $2^{63} - 1$. The first overflow occurs when computing $\\binom{62}{28}$:\n",
    "$$35 \\binom{62}{27} = 2^{63} + 565868026766073212.$$\n",
    "The first entry in Pascal's triangle to overflow the type is\n",
    "$$\\binom{67}{30} = 2^{63} + 766318715327501328.$$"
   ]
  },
  {
   "cell_type": "code",
   "execution_count": 7,
   "metadata": {},
   "outputs": [
    {
     "name": "stdout",
     "output_type": "stream",
     "text": [
      "Machine parameters for int64\n",
      "---------------------------------------------------------------\n",
      "min = -9223372036854775808\n",
      "max = 9223372036854775807\n",
      "---------------------------------------------------------------\n",
      "2^{63} - 1 = 9223372036854775807\n"
     ]
    }
   ],
   "source": [
    "print(np.iinfo(np.int64), end=\"\")\n",
    "print(f\"2^{{63}} - 1 = {2**63 - 1}\")"
   ]
  },
  {
   "cell_type": "code",
   "execution_count": 8,
   "metadata": {},
   "outputs": [
    {
     "name": "stdout",
     "output_type": "stream",
     "text": [
      "[1 1]\n",
      "[1 3 3 1]\n",
      "[                 1                 61               1830\n",
      "              35990             521855            5949147\n",
      "           55525372          436270780         2944827765\n",
      "        17341763505        90177170226       418094152866\n",
      "      1742058970275      6566222272575     22512762077400\n",
      "     70539987842520    202802465047245    536830054536824\n",
      "   1312251244423347   2969831763694943   6236646703759380\n",
      "  12176310231149266  22138745874816848  37539612570341608\n",
      "  59437719903040872  87967825456500496 121801604478231456\n",
      " 157890968768077792 191724747789808736 218169540588403040\n",
      " 232714176627629920 232714176627629920 218169540588403040\n",
      " 191724747789808736 157890968768077792 121801604478231440\n",
      "  87967825456500480  59437719903040864  37539612570341600\n",
      "  22138745874816840  12176310231149262   6236646703759378\n",
      "   2969831763694941   1312251244423346    536830054536823\n",
      "    202802465047244     70539987842519     22512762077399\n",
      "      6566222272574      1742058970274       418094152865\n",
      "        90177170225        17341763504         2944827764\n",
      "          436270779           55525371            5949146\n",
      "             521854              35989               1829\n",
      "                 60                  0]\n"
     ]
    }
   ],
   "source": [
    "print(pascals_triangle(1, dtype=np.int64))\n",
    "print(pascals_triangle(3, dtype=np.int64))\n",
    "print(pascals_triangle(61, dtype=np.int64))"
   ]
  },
  {
   "cell_type": "code",
   "execution_count": 9,
   "metadata": {},
   "outputs": [
    {
     "name": "stdout",
     "output_type": "stream",
     "text": [
      "[                  1                  62                1891\n",
      "               37820              557845             6471002\n",
      "            61474519           491796152          3381098545\n",
      "         20286591270        107518933731        508271323092\n",
      "       2160153123141       8308281242850      29078984349975\n",
      "      93052749919920     273342452889765     739632519584070\n",
      "    1849081298960175    4282083008118300    9206478467454346\n",
      "   18412956934908692   34315056105966196   59678358445158600\n",
      "   96977332473382720  147405545359541728  209769429934732448\n",
      "  279692573246309952 -309196571788882240  273588297685777760\n",
      "  300947127454355520 -284401161134521760 -275513624849067968\n",
      " -250466931680970880 -213633559374945760 -170906847499956608\n",
      " -128180135624967456  -90072527736463616  -59258241931883960\n",
      "  -36466610419620896  -20968300991282016  -11251283458736692\n",
      "   -5625641729368346   -2616577548543416   -1129885759598293\n",
      "    -451954303839317    -167026590549312     -56860115931680\n",
      "     -17768786228650      -5076796065328      -1319966976985\n",
      "       -310580465172        -65699713786        -12396172412\n",
      "         -2066028735          -300513270           -37564158\n",
      "            -3954121             -340872              -23109\n",
      "               -1155                 -37                   0]\n"
     ]
    },
    {
     "name": "stderr",
     "output_type": "stream",
     "text": [
      "${HERE}/.venv/lib/python3.7/site-packages/ipykernel_launcher.py:12: RuntimeWarning: overflow encountered in long_scalars\n",
      "  if sys.path[0] == '':\n"
     ]
    }
   ],
   "source": [
    "print(pascals_triangle(62, dtype=np.int64))"
   ]
  },
  {
   "cell_type": "markdown",
   "metadata": {},
   "source": [
    "## Fortran `c_double`\n",
    "\n",
    "A 64-bit (double precision) floating-point number can represent all integers until $2^{53}$, at which point rounding must occur to fit into the 52-bit mantissa. The first time $2^{53}$ is exceeded occurs when computing $\\binom{52}{24}$:\n",
    "$$29 \\binom{52}{23} = \\mathtt{1.22d89e0b2f2b00}_{16} \\cdot 2^{53}.$$\n",
    "however first roundoff does not occur until $\\binom{55}{21}$:\n",
    "$$35 \\binom{55}{20} = \\mathtt{1.f6640c0aa061b8}_{16} \\cdot 2^{53} \\neq \\mathtt{1.f6640c0aa061c0}_{16} \\cdot 2^{53}.$$\n",
    "The first entry in Pascal's triangle that requires roundoff is\n",
    "$$\\binom{57}{25} = \\mathtt{1.1a366b62211ad8}_{16} \\cdot 2^{53} \\neq \\mathtt{1.1a366b62211ae0}_{16} \\cdot 2^{53}.$$"
   ]
  },
  {
   "cell_type": "code",
   "execution_count": 10,
   "metadata": {},
   "outputs": [
    {
     "name": "stdout",
     "output_type": "stream",
     "text": [
      "Machine parameters for float64\n",
      "---------------------------------------------------------------\n",
      "precision =  15   resolution = 1.0000000000000001e-15\n",
      "machep =    -52   eps =        2.2204460492503131e-16\n",
      "negep =     -53   epsneg =     1.1102230246251565e-16\n",
      "minexp =  -1022   tiny =       2.2250738585072014e-308\n",
      "maxexp =   1024   max =        1.7976931348623157e+308\n",
      "nexp =       11   min =        -max\n",
      "---------------------------------------------------------------\n",
      "2.0^{52} - 1 = 4503599627370495.0\n",
      "    2.0^{52} = 4503599627370496.0\n",
      "2.0^{52} + 1 = 4503599627370497.0\n",
      "2.0^{52} + 2 = 4503599627370498.0\n",
      "2.0^{53} - 1 = 9007199254740991.0\n",
      "    2.0^{53} = 9007199254740992.0\n",
      "2.0^{53} + 1 = 9007199254740992.0\n",
      "2.0^{53} + 2 = 9007199254740994.0\n",
      "---------------------------------------------------------------\n",
      "np.double(9007199254740993) = 9007199254740992.0\n"
     ]
    }
   ],
   "source": [
    "print(np.finfo(np.double), end=\"\")\n",
    "print(f\"2.0^{{52}} - 1 = {2.0**52 - 1}\")\n",
    "print(f\"    2.0^{{52}} = {2.0**52}\")\n",
    "print(f\"2.0^{{52}} + 1 = {2.0**52 + 1}\")\n",
    "print(f\"2.0^{{52}} + 2 = {2.0**52 + 2}\")\n",
    "print(f\"2.0^{{53}} - 1 = {2.0**53 - 1}\")\n",
    "print(f\"    2.0^{{53}} = {2.0**53}\")\n",
    "print(f\"2.0^{{53}} + 1 = {2.0**53 + 1}\")\n",
    "print(f\"2.0^{{53}} + 2 = {2.0**53 + 2}\")\n",
    "print('-' * 63)\n",
    "print(f\"np.double(9007199254740993) = {np.double(9007199254740993)}\")"
   ]
  },
  {
   "cell_type": "code",
   "execution_count": 11,
   "metadata": {},
   "outputs": [],
   "source": [
    "def maybe_fraction(float_value):\n",
    "    result = fractions.Fraction(float(float_value))\n",
    "    if result.denominator == 1:\n",
    "        return result.numerator\n",
    "\n",
    "    return result\n",
    "\n",
    "\n",
    "def pascals_double(n):\n",
    "    values = pascals_triangle(n, dtype=np.double)\n",
    "    return np.array([maybe_fraction(value) for value in values])"
   ]
  },
  {
   "cell_type": "code",
   "execution_count": 12,
   "metadata": {},
   "outputs": [
    {
     "name": "stdout",
     "output_type": "stream",
     "text": [
      "[1 1]\n",
      "[1 3 3 1]\n"
     ]
    }
   ],
   "source": [
    "print(pascals_double(1))\n",
    "print(pascals_double(3))"
   ]
  },
  {
   "cell_type": "code",
   "execution_count": 13,
   "metadata": {
    "scrolled": true
   },
   "outputs": [
    {
     "name": "stdout",
     "output_type": "stream",
     "text": [
      "51: True\n",
      "52: True\n",
      "53: True\n",
      "54: True\n"
     ]
    }
   ],
   "source": [
    "for n in range(51, 54 + 1):\n",
    "    same = np.all(pascals_double(n) == pascals_triangle(n, dtype=int))\n",
    "    print(f\"{n}: {same}\")"
   ]
  },
  {
   "cell_type": "code",
   "execution_count": 14,
   "metadata": {
    "scrolled": true
   },
   "outputs": [
    {
     "data": {
      "text/plain": [
       "array([0, 0, 0, 0, 0, 0, 0, 0, 0, 0, 0, 0, 0, 0, 0, 0, 0, 0, 0, 0, 0, 0,\n",
       "       0, 0, 0, 0, Fraction(-1, 2), Fraction(-1, 2), Fraction(-1, 2),\n",
       "       Fraction(-1, 2), Fraction(-1, 2), Fraction(-1, 2), Fraction(-1, 2),\n",
       "       Fraction(-1, 4), Fraction(-1, 8), Fraction(-1, 16),\n",
       "       Fraction(-1, 16), Fraction(-1, 32), Fraction(-1, 64),\n",
       "       Fraction(-1, 128), Fraction(-1, 256), Fraction(-3, 2048),\n",
       "       Fraction(-1, 2048), Fraction(-3, 16384), Fraction(-3, 65536),\n",
       "       Fraction(-3, 262144), Fraction(-3, 1048576), Fraction(-1, 2097152),\n",
       "       Fraction(-3, 33554432), Fraction(-1, 67108864),\n",
       "       Fraction(-1, 536870912), Fraction(-3, 17179869184),\n",
       "       Fraction(-1, 68719476736), Fraction(-1, 1099511627776),\n",
       "       Fraction(-5, 140737488355328), Fraction(-3, 4503599627370496)],\n",
       "      dtype=object)"
      ]
     },
     "execution_count": 14,
     "metadata": {},
     "output_type": "execute_result"
    }
   ],
   "source": [
    "pascals_double(55) - pascals_triangle(55, dtype=int)"
   ]
  },
  {
   "cell_type": "markdown",
   "metadata": {},
   "source": [
    "## Fortran `c_float`\n",
    "\n",
    "A 32-bit (single precision) floating-point number can represent all integers until $2^{24}$, at which point rounding must occur to fit into the 23-bit mantissa. The first time $2^{24}$ is exceeded occurs when computing $\\binom{24}{10}$:\n",
    "$$15 \\binom{24}{9} = \\mathtt{1.2b4390}_{16} \\cdot 2^{24}.$$\n",
    "however first roundoff does not occur until $\\binom{25}{9}$:\n",
    "$$17 \\binom{25}{8} = \\mathtt{1.188f57}_{16} \\cdot 2^{24} \\neq \\mathtt{1.188f58}_{16} \\cdot 2^{24}.$$\n",
    "The first entry in Pascal's triangle that requires roundoff is\n",
    "$$\\binom{28}{12} = \\mathtt{1.d032fb}_{16} \\cdot 2^{24} \\neq \\mathtt{1.d032fc}_{16} \\cdot 2^{24}.$$"
   ]
  },
  {
   "cell_type": "code",
   "execution_count": 15,
   "metadata": {},
   "outputs": [
    {
     "name": "stdout",
     "output_type": "stream",
     "text": [
      "Machine parameters for float32\n",
      "---------------------------------------------------------------\n",
      "precision =   6   resolution = 1.0000000e-06\n",
      "machep =    -23   eps =        1.1920929e-07\n",
      "negep =     -24   epsneg =     5.9604645e-08\n",
      "minexp =   -126   tiny =       1.1754944e-38\n",
      "maxexp =    128   max =        3.4028235e+38\n",
      "nexp =        8   min =        -max\n",
      "---------------------------------------------------------------\n",
      "2.0^{23} - 1 = 8388607.0\n",
      "    2.0^{23} = 8388608.0\n",
      "2.0^{23} + 1 = 8388609.0\n",
      "2.0^{23} + 2 = 8388610.0\n",
      "2.0^{24} - 1 = 16777215.0\n",
      "    2.0^{24} = 16777216.0\n",
      "2.0^{24} + 1 = 16777216.0\n",
      "2.0^{24} + 2 = 16777218.0\n",
      "---------------------------------------------------------------\n",
      "np.float32(16777217) = 16777216.0\n"
     ]
    }
   ],
   "source": [
    "print(np.finfo(np.float32), end=\"\")\n",
    "one = np.float32(1.0)\n",
    "two = np.float32(2.0)\n",
    "value = np.float32(2 ** 23)\n",
    "print(f\"2.0^{{23}} - 1 = {value - one}\")\n",
    "print(f\"    2.0^{{23}} = {value}\")\n",
    "print(f\"2.0^{{23}} + 1 = {value + one}\")\n",
    "print(f\"2.0^{{23}} + 2 = {value + two}\")\n",
    "value = np.float32(2 ** 24)\n",
    "print(f\"2.0^{{24}} - 1 = {value - one}\")\n",
    "print(f\"    2.0^{{24}} = {value}\")\n",
    "print(f\"2.0^{{24}} + 1 = {value + one}\")\n",
    "print(f\"2.0^{{24}} + 2 = {value + two}\")\n",
    "print(\"-\" * 63)\n",
    "print(f\"np.float32(16777217) = {np.float32(16777217)}\")"
   ]
  },
  {
   "cell_type": "code",
   "execution_count": 16,
   "metadata": {},
   "outputs": [],
   "source": [
    "def pascals_float(n):\n",
    "    values = pascals_triangle(n, dtype=np.float32)\n",
    "    return np.array([maybe_fraction(value) for value in values])"
   ]
  },
  {
   "cell_type": "code",
   "execution_count": 17,
   "metadata": {},
   "outputs": [
    {
     "name": "stdout",
     "output_type": "stream",
     "text": [
      "[1 1]\n",
      "[1 3 3 1]\n"
     ]
    }
   ],
   "source": [
    "print(pascals_float(1))\n",
    "print(pascals_float(3))"
   ]
  },
  {
   "cell_type": "code",
   "execution_count": 18,
   "metadata": {
    "scrolled": true
   },
   "outputs": [
    {
     "name": "stdout",
     "output_type": "stream",
     "text": [
      "22: True\n",
      "23: True\n",
      "24: True\n"
     ]
    }
   ],
   "source": [
    "for n in range(22, 24 + 1):\n",
    "    same = np.all(pascals_float(n) == pascals_triangle(n, dtype=int))\n",
    "    print(f\"{n}: {same}\")"
   ]
  },
  {
   "cell_type": "code",
   "execution_count": 19,
   "metadata": {},
   "outputs": [
    {
     "data": {
      "text/plain": [
       "array([0, 0, 0, 0, 0, 0, 0, 0, 0, Fraction(1, 8), Fraction(1, 4),\n",
       "       Fraction(1, 2), Fraction(1, 2), Fraction(1, 2), Fraction(1, 2),\n",
       "       Fraction(1, 4), Fraction(1, 8), 0, 0, 0, 0, 0, 0, 0, 0, 0],\n",
       "      dtype=object)"
      ]
     },
     "execution_count": 19,
     "metadata": {},
     "output_type": "execute_result"
    }
   ],
   "source": [
    "pascals_float(25) - pascals_triangle(25, dtype=int)"
   ]
  }
 ],
 "metadata": {
  "kernelspec": {
   "display_name": "Python 3",
   "language": "python",
   "name": "python3"
  },
  "language_info": {
   "codemirror_mode": {
    "name": "ipython",
    "version": 3
   },
   "file_extension": ".py",
   "mimetype": "text/x-python",
   "name": "python",
   "nbconvert_exporter": "python",
   "pygments_lexer": "ipython3",
   "version": "3.7.5"
  }
 },
 "nbformat": 4,
 "nbformat_minor": 2
}
