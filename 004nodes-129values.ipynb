{
 "cells": [
  {
   "cell_type": "code",
   "execution_count": 1,
   "metadata": {},
   "outputs": [],
   "source": [
    "import nb_helpers"
   ]
  },
  {
   "cell_type": "code",
   "execution_count": 2,
   "metadata": {},
   "outputs": [],
   "source": [
    "nodes, s_vals = nb_helpers.generate_nodes(4, 129, 3582536211)"
   ]
  },
  {
   "cell_type": "markdown",
   "metadata": {},
   "source": [
    "# Non-Optimized Implementations"
   ]
  },
  {
   "cell_type": "code",
   "execution_count": 3,
   "metadata": {},
   "outputs": [],
   "source": [
    "timeit_results = []\n",
    "for fn in nb_helpers.BAKEOFF_FUNCTIONS:\n",
    "    name = fn.__name__\n",
    "    timeit_result = %timeit -o -q fn(nodes, s_vals)\n",
    "    timeit_results.append((name, timeit_result))\n",
    "    \n",
    "timeit_results = nb_helpers.sort_results(timeit_results)\n",
    "max_width = max(len(name) for name, _ in timeit_results)"
   ]
  },
  {
   "cell_type": "code",
   "execution_count": 4,
   "metadata": {},
   "outputs": [
    {
     "name": "stdout",
     "output_type": "stream",
     "text": [
      "vs_algorithm: 8.04 µs ± 60.1 ns per loop (mean ± std. dev. of 7 runs, 100000 loops each)\n",
      "serial      : 10.9 µs ± 75.6 ns per loop (mean ± std. dev. of 7 runs, 100000 loops each)\n",
      "forall2     : 11 µs ± 149 ns per loop (mean ± std. dev. of 7 runs, 100000 loops each)\n",
      "forall3     : 11.1 µs ± 96.2 ns per loop (mean ± std. dev. of 7 runs, 100000 loops each)\n",
      "do3         : 11.1 µs ± 96.9 ns per loop (mean ± std. dev. of 7 runs, 100000 loops each)\n",
      "do2         : 11.3 µs ± 81.1 ns per loop (mean ± std. dev. of 7 runs, 100000 loops each)\n",
      "spread1     : 11.5 µs ± 96.6 ns per loop (mean ± std. dev. of 7 runs, 100000 loops each)\n",
      "forall1     : 11.8 µs ± 209 ns per loop (mean ± std. dev. of 7 runs, 100000 loops each)\n",
      "do1         : 12 µs ± 82.3 ns per loop (mean ± std. dev. of 7 runs, 100000 loops each)\n",
      "spread2     : 12.7 µs ± 53.6 ns per loop (mean ± std. dev. of 7 runs, 100000 loops each)\n",
      "spread3     : 13.5 µs ± 129 ns per loop (mean ± std. dev. of 7 runs, 100000 loops each)\n"
     ]
    }
   ],
   "source": [
    "for name, timeit_result in timeit_results:\n",
    "    print(f\"{name:{max_width}}: {timeit_result}\")"
   ]
  },
  {
   "cell_type": "markdown",
   "metadata": {},
   "source": [
    "# Optimized Implementations"
   ]
  },
  {
   "cell_type": "code",
   "execution_count": 5,
   "metadata": {},
   "outputs": [],
   "source": [
    "timeit_results = []\n",
    "for fn in nb_helpers.BAKEOFF_OPT_FUNCTIONS:\n",
    "    name = fn.__name__\n",
    "    timeit_result = %timeit -o -q fn(nodes, s_vals)\n",
    "    timeit_results.append((name, timeit_result))\n",
    "    \n",
    "timeit_results = nb_helpers.sort_results(timeit_results)\n",
    "max_width = max(len(name) for name, _ in timeit_results)"
   ]
  },
  {
   "cell_type": "code",
   "execution_count": 6,
   "metadata": {},
   "outputs": [
    {
     "name": "stdout",
     "output_type": "stream",
     "text": [
      "vs_algorithm: 6.79 µs ± 139 ns per loop (mean ± std. dev. of 7 runs, 100000 loops each)\n",
      "do1         : 8.27 µs ± 54.6 ns per loop (mean ± std. dev. of 7 runs, 100000 loops each)\n",
      "forall1     : 8.35 µs ± 59.4 ns per loop (mean ± std. dev. of 7 runs, 100000 loops each)\n",
      "spread1     : 9.12 µs ± 101 ns per loop (mean ± std. dev. of 7 runs, 100000 loops each)\n",
      "serial      : 9.44 µs ± 90.2 ns per loop (mean ± std. dev. of 7 runs, 100000 loops each)\n",
      "do3         : 10.3 µs ± 138 ns per loop (mean ± std. dev. of 7 runs, 100000 loops each)\n",
      "forall3     : 10.3 µs ± 104 ns per loop (mean ± std. dev. of 7 runs, 100000 loops each)\n",
      "forall2     : 10.3 µs ± 72.2 ns per loop (mean ± std. dev. of 7 runs, 100000 loops each)\n",
      "do2         : 10.3 µs ± 116 ns per loop (mean ± std. dev. of 7 runs, 100000 loops each)\n",
      "spread2     : 12.2 µs ± 64 ns per loop (mean ± std. dev. of 7 runs, 100000 loops each)\n",
      "spread3     : 12.9 µs ± 146 ns per loop (mean ± std. dev. of 7 runs, 100000 loops each)\n"
     ]
    }
   ],
   "source": [
    "for name, timeit_result in timeit_results:\n",
    "    print(f\"{name:{max_width}}: {timeit_result}\")"
   ]
  }
 ],
 "metadata": {
  "kernelspec": {
   "display_name": "Python 3",
   "language": "python",
   "name": "python3"
  },
  "language_info": {
   "codemirror_mode": {
    "name": "ipython",
    "version": 3
   },
   "file_extension": ".py",
   "mimetype": "text/x-python",
   "name": "python",
   "nbconvert_exporter": "python",
   "pygments_lexer": "ipython3",
   "version": "3.7.3"
  }
 },
 "nbformat": 4,
 "nbformat_minor": 2
}
