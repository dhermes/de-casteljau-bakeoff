{
 "cells": [
  {
   "cell_type": "code",
   "execution_count": 1,
   "metadata": {},
   "outputs": [],
   "source": [
    "import nb_helpers"
   ]
  },
  {
   "cell_type": "code",
   "execution_count": 2,
   "metadata": {},
   "outputs": [],
   "source": [
    "num_nodes = 4\n",
    "num_values = 129\n",
    "seed = 3582536211\n",
    "results_cache = nb_helpers.get_timeit_results()"
   ]
  },
  {
   "cell_type": "code",
   "execution_count": 3,
   "metadata": {},
   "outputs": [
    {
     "name": "stdout",
     "output_type": "stream",
     "text": [
      "Non-Optimized Implementations\n",
      "-----------------------------\n",
      "vs_algorithm32: 7.79 µs ± 165 ns per loop (mean ± std. dev. of 7 runs, 100000 loops each)\n",
      "vs_algorithm64: 7.89 µs ± 87 ns per loop (mean ± std. dev. of 7 runs, 100000 loops each)\n",
      "vs_algorithm53: 7.89 µs ± 236 ns per loop (mean ± std. dev. of 7 runs, 100000 loops each)\n",
      "serial        : 10.2 µs ± 110 ns per loop (mean ± std. dev. of 7 runs, 100000 loops each)\n",
      "forall3       : 10.8 µs ± 84.6 ns per loop (mean ± std. dev. of 7 runs, 100000 loops each)\n",
      "forall2       : 10.8 µs ± 171 ns per loop (mean ± std. dev. of 7 runs, 100000 loops each)\n",
      "do2           : 10.9 µs ± 88.8 ns per loop (mean ± std. dev. of 7 runs, 100000 loops each)\n",
      "do3           : 11 µs ± 41.5 ns per loop (mean ± std. dev. of 7 runs, 100000 loops each)\n",
      "spread1       : 11.2 µs ± 95 ns per loop (mean ± std. dev. of 7 runs, 100000 loops each)\n",
      "forall1       : 11.5 µs ± 335 ns per loop (mean ± std. dev. of 7 runs, 100000 loops each)\n",
      "do1           : 11.8 µs ± 129 ns per loop (mean ± std. dev. of 7 runs, 100000 loops each)\n",
      "spread2       : 12.6 µs ± 137 ns per loop (mean ± std. dev. of 7 runs, 100000 loops each)\n",
      "spread3       : 13.2 µs ± 42.3 ns per loop (mean ± std. dev. of 7 runs, 100000 loops each)\n",
      "\n",
      "Optimized Implementations\n",
      "-------------------------\n",
      "vs_algorithm64: 6.38 µs ± 107 ns per loop (mean ± std. dev. of 7 runs, 100000 loops each)\n",
      "vs_algorithm53: 6.44 µs ± 117 ns per loop (mean ± std. dev. of 7 runs, 100000 loops each)\n",
      "vs_algorithm32: 6.46 µs ± 111 ns per loop (mean ± std. dev. of 7 runs, 100000 loops each)\n",
      "forall1       : 8.18 µs ± 121 ns per loop (mean ± std. dev. of 7 runs, 100000 loops each)\n",
      "do1           : 8.18 µs ± 170 ns per loop (mean ± std. dev. of 7 runs, 100000 loops each)\n",
      "spread1       : 9.19 µs ± 151 ns per loop (mean ± std. dev. of 7 runs, 100000 loops each)\n",
      "serial        : 9.45 µs ± 161 ns per loop (mean ± std. dev. of 7 runs, 100000 loops each)\n",
      "forall2       : 10.1 µs ± 226 ns per loop (mean ± std. dev. of 7 runs, 100000 loops each)\n",
      "do3           : 10.2 µs ± 126 ns per loop (mean ± std. dev. of 7 runs, 100000 loops each)\n",
      "do2           : 10.2 µs ± 120 ns per loop (mean ± std. dev. of 7 runs, 100000 loops each)\n",
      "forall3       : 10.2 µs ± 416 ns per loop (mean ± std. dev. of 7 runs, 100000 loops each)\n",
      "spread2       : 12 µs ± 175 ns per loop (mean ± std. dev. of 7 runs, 100000 loops each)\n",
      "spread3       : 12.9 µs ± 125 ns per loop (mean ± std. dev. of 7 runs, 100000 loops each)\n"
     ]
    }
   ],
   "source": [
    "nb_helpers.compare_bakeoff_times(\n",
    "    get_ipython, results_cache, num_nodes, num_values, seed\n",
    ")"
   ]
  },
  {
   "cell_type": "code",
   "execution_count": 4,
   "metadata": {},
   "outputs": [],
   "source": [
    "nb_helpers.store_timeit_results(results_cache)"
   ]
  }
 ],
 "metadata": {
  "kernelspec": {
   "display_name": "Python 3",
   "language": "python",
   "name": "python3"
  },
  "language_info": {
   "codemirror_mode": {
    "name": "ipython",
    "version": 3
   },
   "file_extension": ".py",
   "mimetype": "text/x-python",
   "name": "python",
   "nbconvert_exporter": "python",
   "pygments_lexer": "ipython3",
   "version": "3.7.3"
  }
 },
 "nbformat": 4,
 "nbformat_minor": 2
}
