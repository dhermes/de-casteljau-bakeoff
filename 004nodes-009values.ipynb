{
 "cells": [
  {
   "cell_type": "code",
   "execution_count": 1,
   "metadata": {},
   "outputs": [],
   "source": [
    "import nb_helpers"
   ]
  },
  {
   "cell_type": "code",
   "execution_count": 2,
   "metadata": {},
   "outputs": [],
   "source": [
    "nodes, s_vals = nb_helpers.generate_nodes(4, 9, 2753024933)"
   ]
  },
  {
   "cell_type": "markdown",
   "metadata": {},
   "source": [
    "# Non-Optimized Implementations"
   ]
  },
  {
   "cell_type": "code",
   "execution_count": 3,
   "metadata": {},
   "outputs": [],
   "source": [
    "timeit_results = []\n",
    "for fn in nb_helpers.BAKEOFF_FUNCTIONS:\n",
    "    name = fn.__name__\n",
    "    timeit_result = %timeit -o -q fn(nodes, s_vals)\n",
    "    timeit_results.append((name, timeit_result))\n",
    "    \n",
    "timeit_results = nb_helpers.sort_results(timeit_results)\n",
    "max_width = max(len(name) for name, _ in timeit_results)"
   ]
  },
  {
   "cell_type": "code",
   "execution_count": 4,
   "metadata": {},
   "outputs": [
    {
     "name": "stdout",
     "output_type": "stream",
     "text": [
      "vs_algorithm64: 5.51 µs ± 93.5 ns per loop (mean ± std. dev. of 7 runs, 100000 loops each)\n",
      "vs_algorithm53: 5.52 µs ± 64.2 ns per loop (mean ± std. dev. of 7 runs, 100000 loops each)\n",
      "vs_algorithm32: 5.56 µs ± 108 ns per loop (mean ± std. dev. of 7 runs, 100000 loops each)\n",
      "forall3       : 5.56 µs ± 82.7 ns per loop (mean ± std. dev. of 7 runs, 100000 loops each)\n",
      "forall1       : 5.58 µs ± 78.4 ns per loop (mean ± std. dev. of 7 runs, 100000 loops each)\n",
      "forall2       : 5.75 µs ± 152 ns per loop (mean ± std. dev. of 7 runs, 100000 loops each)\n",
      "do1           : 5.78 µs ± 99.8 ns per loop (mean ± std. dev. of 7 runs, 100000 loops each)\n",
      "do2           : 5.78 µs ± 102 ns per loop (mean ± std. dev. of 7 runs, 100000 loops each)\n",
      "serial        : 5.83 µs ± 208 ns per loop (mean ± std. dev. of 7 runs, 100000 loops each)\n",
      "do3           : 5.84 µs ± 74.9 ns per loop (mean ± std. dev. of 7 runs, 100000 loops each)\n",
      "spread1       : 6.25 µs ± 111 ns per loop (mean ± std. dev. of 7 runs, 100000 loops each)\n",
      "spread3       : 6.4 µs ± 90.4 ns per loop (mean ± std. dev. of 7 runs, 100000 loops each)\n",
      "spread2       : 6.43 µs ± 102 ns per loop (mean ± std. dev. of 7 runs, 100000 loops each)\n"
     ]
    }
   ],
   "source": [
    "for name, timeit_result in timeit_results:\n",
    "    print(f\"{name:{max_width}}: {timeit_result}\")"
   ]
  },
  {
   "cell_type": "markdown",
   "metadata": {},
   "source": [
    "# Optimized Implementations"
   ]
  },
  {
   "cell_type": "code",
   "execution_count": 5,
   "metadata": {},
   "outputs": [],
   "source": [
    "timeit_results = []\n",
    "for fn in nb_helpers.BAKEOFF_OPT_FUNCTIONS:\n",
    "    name = fn.__name__\n",
    "    timeit_result = %timeit -o -q fn(nodes, s_vals)\n",
    "    timeit_results.append((name, timeit_result))\n",
    "    \n",
    "timeit_results = nb_helpers.sort_results(timeit_results)\n",
    "max_width = max(len(name) for name, _ in timeit_results)"
   ]
  },
  {
   "cell_type": "code",
   "execution_count": 6,
   "metadata": {},
   "outputs": [
    {
     "name": "stdout",
     "output_type": "stream",
     "text": [
      "vs_algorithm64: 5.48 µs ± 97.9 ns per loop (mean ± std. dev. of 7 runs, 100000 loops each)\n",
      "vs_algorithm32: 5.54 µs ± 104 ns per loop (mean ± std. dev. of 7 runs, 100000 loops each)\n",
      "forall1       : 5.62 µs ± 107 ns per loop (mean ± std. dev. of 7 runs, 100000 loops each)\n",
      "vs_algorithm53: 5.64 µs ± 97 ns per loop (mean ± std. dev. of 7 runs, 100000 loops each)\n",
      "serial        : 5.69 µs ± 119 ns per loop (mean ± std. dev. of 7 runs, 100000 loops each)\n",
      "do1           : 5.83 µs ± 114 ns per loop (mean ± std. dev. of 7 runs, 100000 loops each)\n",
      "forall3       : 5.92 µs ± 156 ns per loop (mean ± std. dev. of 7 runs, 100000 loops each)\n",
      "do3           : 5.93 µs ± 83 ns per loop (mean ± std. dev. of 7 runs, 100000 loops each)\n",
      "do2           : 5.94 µs ± 145 ns per loop (mean ± std. dev. of 7 runs, 100000 loops each)\n",
      "forall2       : 6.05 µs ± 119 ns per loop (mean ± std. dev. of 7 runs, 100000 loops each)\n",
      "spread1       : 6.3 µs ± 91.8 ns per loop (mean ± std. dev. of 7 runs, 100000 loops each)\n",
      "spread3       : 6.56 µs ± 106 ns per loop (mean ± std. dev. of 7 runs, 100000 loops each)\n",
      "spread2       : 6.73 µs ± 133 ns per loop (mean ± std. dev. of 7 runs, 100000 loops each)\n"
     ]
    }
   ],
   "source": [
    "for name, timeit_result in timeit_results:\n",
    "    print(f\"{name:{max_width}}: {timeit_result}\")"
   ]
  }
 ],
 "metadata": {
  "kernelspec": {
   "display_name": "Python 3",
   "language": "python",
   "name": "python3"
  },
  "language_info": {
   "codemirror_mode": {
    "name": "ipython",
    "version": 3
   },
   "file_extension": ".py",
   "mimetype": "text/x-python",
   "name": "python",
   "nbconvert_exporter": "python",
   "pygments_lexer": "ipython3",
   "version": "3.7.3"
  }
 },
 "nbformat": 4,
 "nbformat_minor": 2
}
