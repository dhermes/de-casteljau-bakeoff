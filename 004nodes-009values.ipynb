{
 "cells": [
  {
   "cell_type": "code",
   "execution_count": 1,
   "metadata": {},
   "outputs": [],
   "source": [
    "import nb_helpers"
   ]
  },
  {
   "cell_type": "code",
   "execution_count": 2,
   "metadata": {},
   "outputs": [],
   "source": [
    "num_nodes = 4\n",
    "num_values = 9\n",
    "seed = 2753024933\n",
    "results_cache = nb_helpers.get_timeit_results()"
   ]
  },
  {
   "cell_type": "code",
   "execution_count": 3,
   "metadata": {},
   "outputs": [
    {
     "name": "stdout",
     "output_type": "stream",
     "text": [
      "Non-Optimized Implementations\n",
      "-----------------------------\n",
      "vs_algorithm64: 5.46 µs ± 59.7 ns per loop (mean ± std. dev. of 7 runs, 100000 loops each)\n",
      "vs_algorithm32: 5.5 µs ± 133 ns per loop (mean ± std. dev. of 7 runs, 100000 loops each)\n",
      "vs_algorithm53: 5.56 µs ± 68.8 ns per loop (mean ± std. dev. of 7 runs, 100000 loops each)\n",
      "serial        : 5.74 µs ± 78.6 ns per loop (mean ± std. dev. of 7 runs, 100000 loops each)\n",
      "forall1       : 5.76 µs ± 262 ns per loop (mean ± std. dev. of 7 runs, 100000 loops each)\n",
      "do2           : 5.79 µs ± 89.7 ns per loop (mean ± std. dev. of 7 runs, 100000 loops each)\n",
      "do3           : 5.85 µs ± 41.5 ns per loop (mean ± std. dev. of 7 runs, 100000 loops each)\n",
      "do1           : 5.93 µs ± 233 ns per loop (mean ± std. dev. of 7 runs, 100000 loops each)\n",
      "forall2       : 6.32 µs ± 373 ns per loop (mean ± std. dev. of 7 runs, 100000 loops each)\n",
      "spread2       : 6.42 µs ± 59.2 ns per loop (mean ± std. dev. of 7 runs, 100000 loops each)\n",
      "spread3       : 6.43 µs ± 98.6 ns per loop (mean ± std. dev. of 7 runs, 100000 loops each)\n",
      "spread1       : 6.51 µs ± 188 ns per loop (mean ± std. dev. of 7 runs, 100000 loops each)\n",
      "forall3       : 6.66 µs ± 582 ns per loop (mean ± std. dev. of 7 runs, 100000 loops each)\n",
      "\n",
      "Optimized Implementations\n",
      "-------------------------\n",
      "vs_algorithm32: 5.48 µs ± 197 ns per loop (mean ± std. dev. of 7 runs, 100000 loops each)\n",
      "serial        : 5.5 µs ± 80.3 ns per loop (mean ± std. dev. of 7 runs, 100000 loops each)\n",
      "vs_algorithm64: 5.51 µs ± 134 ns per loop (mean ± std. dev. of 7 runs, 100000 loops each)\n",
      "do1           : 5.54 µs ± 103 ns per loop (mean ± std. dev. of 7 runs, 100000 loops each)\n",
      "vs_algorithm53: 5.55 µs ± 73.3 ns per loop (mean ± std. dev. of 7 runs, 100000 loops each)\n",
      "forall1       : 5.62 µs ± 39.5 ns per loop (mean ± std. dev. of 7 runs, 100000 loops each)\n",
      "do2           : 5.83 µs ± 90.2 ns per loop (mean ± std. dev. of 7 runs, 100000 loops each)\n",
      "forall3       : 5.84 µs ± 121 ns per loop (mean ± std. dev. of 7 runs, 100000 loops each)\n",
      "forall2       : 5.9 µs ± 75.2 ns per loop (mean ± std. dev. of 7 runs, 100000 loops each)\n",
      "do3           : 5.91 µs ± 107 ns per loop (mean ± std. dev. of 7 runs, 100000 loops each)\n",
      "spread1       : 6.21 µs ± 116 ns per loop (mean ± std. dev. of 7 runs, 100000 loops each)\n",
      "spread2       : 6.49 µs ± 98.5 ns per loop (mean ± std. dev. of 7 runs, 100000 loops each)\n",
      "spread3       : 6.52 µs ± 65.3 ns per loop (mean ± std. dev. of 7 runs, 100000 loops each)\n"
     ]
    }
   ],
   "source": [
    "nb_helpers.compare_bakeoff_times(\n",
    "    get_ipython, results_cache, num_nodes, num_values, seed\n",
    ")"
   ]
  },
  {
   "cell_type": "code",
   "execution_count": 4,
   "metadata": {},
   "outputs": [],
   "source": [
    "nb_helpers.store_timeit_results(results_cache)"
   ]
  }
 ],
 "metadata": {
  "kernelspec": {
   "display_name": "Python 3",
   "language": "python",
   "name": "python3"
  },
  "language_info": {
   "codemirror_mode": {
    "name": "ipython",
    "version": 3
   },
   "file_extension": ".py",
   "mimetype": "text/x-python",
   "name": "python",
   "nbconvert_exporter": "python",
   "pygments_lexer": "ipython3",
   "version": "3.7.3"
  }
 },
 "nbformat": 4,
 "nbformat_minor": 2
}
