{
 "cells": [
  {
   "cell_type": "code",
   "execution_count": 1,
   "metadata": {},
   "outputs": [],
   "source": [
    "import nb_helpers"
   ]
  },
  {
   "cell_type": "code",
   "execution_count": 2,
   "metadata": {},
   "outputs": [],
   "source": [
    "nodes, s_vals = nb_helpers.generate_nodes(4, 9, 2753024933)"
   ]
  },
  {
   "cell_type": "markdown",
   "metadata": {},
   "source": [
    "# Non-Optimized Implementations"
   ]
  },
  {
   "cell_type": "code",
   "execution_count": 3,
   "metadata": {},
   "outputs": [],
   "source": [
    "timeit_results = []\n",
    "for fn in nb_helpers.BAKEOFF_FUNCTIONS:\n",
    "    name = fn.__name__\n",
    "    timeit_result = %timeit -o -q fn(nodes, s_vals)\n",
    "    timeit_results.append((name, timeit_result))\n",
    "    \n",
    "timeit_results = nb_helpers.sort_results(timeit_results)\n",
    "max_width = max(len(name) for name, _ in timeit_results)"
   ]
  },
  {
   "cell_type": "code",
   "execution_count": 4,
   "metadata": {},
   "outputs": [
    {
     "name": "stdout",
     "output_type": "stream",
     "text": [
      "vs_algorithm: 5.6 µs ± 55.5 ns per loop (mean ± std. dev. of 7 runs, 100000 loops each)\n",
      "do2         : 5.73 µs ± 40.5 ns per loop (mean ± std. dev. of 7 runs, 100000 loops each)\n",
      "forall3     : 5.77 µs ± 56.8 ns per loop (mean ± std. dev. of 7 runs, 100000 loops each)\n",
      "do1         : 5.78 µs ± 60.2 ns per loop (mean ± std. dev. of 7 runs, 100000 loops each)\n",
      "do3         : 5.8 µs ± 71.3 ns per loop (mean ± std. dev. of 7 runs, 100000 loops each)\n",
      "forall2     : 5.82 µs ± 65.1 ns per loop (mean ± std. dev. of 7 runs, 100000 loops each)\n",
      "forall1     : 5.83 µs ± 104 ns per loop (mean ± std. dev. of 7 runs, 100000 loops each)\n",
      "serial      : 5.86 µs ± 64.8 ns per loop (mean ± std. dev. of 7 runs, 100000 loops each)\n",
      "spread1     : 6.33 µs ± 57.8 ns per loop (mean ± std. dev. of 7 runs, 100000 loops each)\n",
      "spread3     : 6.48 µs ± 70.8 ns per loop (mean ± std. dev. of 7 runs, 100000 loops each)\n",
      "spread2     : 6.52 µs ± 82.7 ns per loop (mean ± std. dev. of 7 runs, 100000 loops each)\n"
     ]
    }
   ],
   "source": [
    "for name, timeit_result in timeit_results:\n",
    "    print(f\"{name:{max_width}}: {timeit_result}\")"
   ]
  },
  {
   "cell_type": "markdown",
   "metadata": {},
   "source": [
    "# Optimized Implementations"
   ]
  },
  {
   "cell_type": "code",
   "execution_count": 5,
   "metadata": {},
   "outputs": [],
   "source": [
    "timeit_results = []\n",
    "for fn in nb_helpers.BAKEOFF_OPT_FUNCTIONS:\n",
    "    name = fn.__name__\n",
    "    timeit_result = %timeit -o -q fn(nodes, s_vals)\n",
    "    timeit_results.append((name, timeit_result))\n",
    "    \n",
    "timeit_results = nb_helpers.sort_results(timeit_results)\n",
    "max_width = max(len(name) for name, _ in timeit_results)"
   ]
  },
  {
   "cell_type": "code",
   "execution_count": 6,
   "metadata": {},
   "outputs": [
    {
     "name": "stdout",
     "output_type": "stream",
     "text": [
      "vs_algorithm: 5.46 µs ± 71.2 ns per loop (mean ± std. dev. of 7 runs, 100000 loops each)\n",
      "do1         : 5.54 µs ± 111 ns per loop (mean ± std. dev. of 7 runs, 100000 loops each)\n",
      "forall1     : 5.56 µs ± 48.2 ns per loop (mean ± std. dev. of 7 runs, 100000 loops each)\n",
      "forall2     : 5.62 µs ± 41.1 ns per loop (mean ± std. dev. of 7 runs, 100000 loops each)\n",
      "serial      : 5.64 µs ± 54.3 ns per loop (mean ± std. dev. of 7 runs, 100000 loops each)\n",
      "do2         : 5.72 µs ± 40.5 ns per loop (mean ± std. dev. of 7 runs, 100000 loops each)\n",
      "do3         : 5.73 µs ± 94.2 ns per loop (mean ± std. dev. of 7 runs, 100000 loops each)\n",
      "forall3     : 5.84 µs ± 135 ns per loop (mean ± std. dev. of 7 runs, 100000 loops each)\n",
      "spread1     : 6.18 µs ± 70.6 ns per loop (mean ± std. dev. of 7 runs, 100000 loops each)\n",
      "spread2     : 6.36 µs ± 61.6 ns per loop (mean ± std. dev. of 7 runs, 100000 loops each)\n",
      "spread3     : 6.49 µs ± 130 ns per loop (mean ± std. dev. of 7 runs, 100000 loops each)\n"
     ]
    }
   ],
   "source": [
    "for name, timeit_result in timeit_results:\n",
    "    print(f\"{name:{max_width}}: {timeit_result}\")"
   ]
  }
 ],
 "metadata": {
  "kernelspec": {
   "display_name": "Python 3",
   "language": "python",
   "name": "python3"
  },
  "language_info": {
   "codemirror_mode": {
    "name": "ipython",
    "version": 3
   },
   "file_extension": ".py",
   "mimetype": "text/x-python",
   "name": "python",
   "nbconvert_exporter": "python",
   "pygments_lexer": "ipython3",
   "version": "3.7.3"
  }
 },
 "nbformat": 4,
 "nbformat_minor": 2
}
