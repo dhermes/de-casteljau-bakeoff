{
 "cells": [
  {
   "cell_type": "code",
   "execution_count": 1,
   "metadata": {},
   "outputs": [],
   "source": [
    "import nb_helpers"
   ]
  },
  {
   "cell_type": "code",
   "execution_count": 2,
   "metadata": {},
   "outputs": [],
   "source": [
    "num_nodes = 32\n",
    "num_values = 129\n",
    "seed = 1298609691\n",
    "results_cache = nb_helpers.get_timeit_results()"
   ]
  },
  {
   "cell_type": "code",
   "execution_count": 3,
   "metadata": {},
   "outputs": [
    {
     "name": "stdout",
     "output_type": "stream",
     "text": [
      "Non-Optimized Implementations\n",
      "-----------------------------\n",
      "vs_algorithm53: 24.8 µs ± 278 ns per loop (mean ± std. dev. of 7 runs, 10000 loops each)\n",
      "vs_algorithm64: 25.4 µs ± 249 ns per loop (mean ± std. dev. of 7 runs, 10000 loops each)\n",
      "vs_algorithm32: 25.7 µs ± 354 ns per loop (mean ± std. dev. of 7 runs, 10000 loops each)\n",
      "spread1       : 212 µs ± 1.89 µs per loop (mean ± std. dev. of 7 runs, 1000 loops each)\n",
      "forall3       : 230 µs ± 2.88 µs per loop (mean ± std. dev. of 7 runs, 1000 loops each)\n",
      "serial        : 231 µs ± 3.43 µs per loop (mean ± std. dev. of 7 runs, 1000 loops each)\n",
      "do2           : 232 µs ± 3.58 µs per loop (mean ± std. dev. of 7 runs, 1000 loops each)\n",
      "forall2       : 233 µs ± 9.19 µs per loop (mean ± std. dev. of 7 runs, 1000 loops each)\n",
      "do3           : 235 µs ± 2.94 µs per loop (mean ± std. dev. of 7 runs, 1000 loops each)\n",
      "do1           : 280 µs ± 3.64 µs per loop (mean ± std. dev. of 7 runs, 1000 loops each)\n",
      "forall1       : 286 µs ± 13.4 µs per loop (mean ± std. dev. of 7 runs, 1000 loops each)\n",
      "spread2       : 295 µs ± 2.65 µs per loop (mean ± std. dev. of 7 runs, 1000 loops each)\n",
      "spread3       : 327 µs ± 2.82 µs per loop (mean ± std. dev. of 7 runs, 1000 loops each)\n",
      "\n",
      "Optimized Implementations\n",
      "-------------------------\n",
      "vs_algorithm32: 13.7 µs ± 227 ns per loop (mean ± std. dev. of 7 runs, 100000 loops each)\n",
      "vs_algorithm53: 13.8 µs ± 183 ns per loop (mean ± std. dev. of 7 runs, 100000 loops each)\n",
      "vs_algorithm64: 13.9 µs ± 131 ns per loop (mean ± std. dev. of 7 runs, 100000 loops each)\n",
      "spread1       : 68 µs ± 1.83 µs per loop (mean ± std. dev. of 7 runs, 10000 loops each)\n",
      "forall1       : 128 µs ± 921 ns per loop (mean ± std. dev. of 7 runs, 10000 loops each)\n",
      "do1           : 128 µs ± 1.52 µs per loop (mean ± std. dev. of 7 runs, 10000 loops each)\n",
      "forall3       : 184 µs ± 1.11 µs per loop (mean ± std. dev. of 7 runs, 10000 loops each)\n",
      "serial        : 186 µs ± 3.55 µs per loop (mean ± std. dev. of 7 runs, 10000 loops each)\n",
      "do3           : 192 µs ± 1.94 µs per loop (mean ± std. dev. of 7 runs, 10000 loops each)\n",
      "do2           : 198 µs ± 1.71 µs per loop (mean ± std. dev. of 7 runs, 10000 loops each)\n",
      "forall2       : 199 µs ± 1.26 µs per loop (mean ± std. dev. of 7 runs, 10000 loops each)\n",
      "spread2       : 265 µs ± 6.3 µs per loop (mean ± std. dev. of 7 runs, 1000 loops each)\n",
      "spread3       : 298 µs ± 7.26 µs per loop (mean ± std. dev. of 7 runs, 1000 loops each)\n"
     ]
    }
   ],
   "source": [
    "nb_helpers.compare_bakeoff_times(\n",
    "    get_ipython, results_cache, num_nodes, num_values, seed\n",
    ")"
   ]
  },
  {
   "cell_type": "code",
   "execution_count": 4,
   "metadata": {},
   "outputs": [],
   "source": [
    "nb_helpers.store_timeit_results(results_cache)"
   ]
  }
 ],
 "metadata": {
  "kernelspec": {
   "display_name": "Python 3",
   "language": "python",
   "name": "python3"
  },
  "language_info": {
   "codemirror_mode": {
    "name": "ipython",
    "version": 3
   },
   "file_extension": ".py",
   "mimetype": "text/x-python",
   "name": "python",
   "nbconvert_exporter": "python",
   "pygments_lexer": "ipython3",
   "version": "3.7.3"
  }
 },
 "nbformat": 4,
 "nbformat_minor": 2
}
