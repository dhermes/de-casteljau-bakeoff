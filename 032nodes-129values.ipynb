{
 "cells": [
  {
   "cell_type": "code",
   "execution_count": 1,
   "metadata": {},
   "outputs": [],
   "source": [
    "import nb_helpers"
   ]
  },
  {
   "cell_type": "code",
   "execution_count": 2,
   "metadata": {},
   "outputs": [],
   "source": [
    "nodes, s_vals = nb_helpers.generate_nodes(32, 129, 1298609691)"
   ]
  },
  {
   "cell_type": "markdown",
   "metadata": {},
   "source": [
    "# Non-Optimized Implementations"
   ]
  },
  {
   "cell_type": "code",
   "execution_count": 3,
   "metadata": {},
   "outputs": [],
   "source": [
    "timeit_results = []\n",
    "for fn in nb_helpers.BAKEOFF_FUNCTIONS:\n",
    "    name = fn.__name__\n",
    "    timeit_result = %timeit -o -q fn(nodes, s_vals)\n",
    "    timeit_results.append((name, timeit_result))\n",
    "    \n",
    "timeit_results = nb_helpers.sort_results(timeit_results)\n",
    "max_width = max(len(name) for name, _ in timeit_results)"
   ]
  },
  {
   "cell_type": "code",
   "execution_count": 4,
   "metadata": {},
   "outputs": [
    {
     "name": "stdout",
     "output_type": "stream",
     "text": [
      "vs_algorithm: 25.7 µs ± 172 ns per loop (mean ± std. dev. of 7 runs, 10000 loops each)\n",
      "spread1     : 216 µs ± 6.88 µs per loop (mean ± std. dev. of 7 runs, 1000 loops each)\n",
      "do2         : 233 µs ± 4.84 µs per loop (mean ± std. dev. of 7 runs, 1000 loops each)\n",
      "do3         : 233 µs ± 4.2 µs per loop (mean ± std. dev. of 7 runs, 1000 loops each)\n",
      "forall2     : 241 µs ± 10.4 µs per loop (mean ± std. dev. of 7 runs, 1000 loops each)\n",
      "forall3     : 241 µs ± 7.34 µs per loop (mean ± std. dev. of 7 runs, 1000 loops each)\n",
      "serial      : 241 µs ± 2.72 µs per loop (mean ± std. dev. of 7 runs, 1000 loops each)\n",
      "forall1     : 278 µs ± 3.78 µs per loop (mean ± std. dev. of 7 runs, 1000 loops each)\n",
      "do1         : 281 µs ± 2.58 µs per loop (mean ± std. dev. of 7 runs, 1000 loops each)\n",
      "spread2     : 299 µs ± 8.58 µs per loop (mean ± std. dev. of 7 runs, 1000 loops each)\n",
      "spread3     : 328 µs ± 3.03 µs per loop (mean ± std. dev. of 7 runs, 1000 loops each)\n"
     ]
    }
   ],
   "source": [
    "for name, timeit_result in timeit_results:\n",
    "    print(f\"{name:{max_width}}: {timeit_result}\")"
   ]
  },
  {
   "cell_type": "markdown",
   "metadata": {},
   "source": [
    "# Optimized Implementations"
   ]
  },
  {
   "cell_type": "code",
   "execution_count": 5,
   "metadata": {},
   "outputs": [],
   "source": [
    "timeit_results = []\n",
    "for fn in nb_helpers.BAKEOFF_OPT_FUNCTIONS:\n",
    "    name = fn.__name__\n",
    "    timeit_result = %timeit -o -q fn(nodes, s_vals)\n",
    "    timeit_results.append((name, timeit_result))\n",
    "    \n",
    "timeit_results = nb_helpers.sort_results(timeit_results)\n",
    "max_width = max(len(name) for name, _ in timeit_results)"
   ]
  },
  {
   "cell_type": "code",
   "execution_count": 6,
   "metadata": {},
   "outputs": [
    {
     "name": "stdout",
     "output_type": "stream",
     "text": [
      "vs_algorithm: 14.5 µs ± 324 ns per loop (mean ± std. dev. of 7 runs, 100000 loops each)\n",
      "spread1     : 69.8 µs ± 2.25 µs per loop (mean ± std. dev. of 7 runs, 10000 loops each)\n",
      "forall1     : 128 µs ± 1.06 µs per loop (mean ± std. dev. of 7 runs, 10000 loops each)\n",
      "do1         : 129 µs ± 996 ns per loop (mean ± std. dev. of 7 runs, 10000 loops each)\n",
      "forall3     : 182 µs ± 1.37 µs per loop (mean ± std. dev. of 7 runs, 10000 loops each)\n",
      "do3         : 183 µs ± 2.04 µs per loop (mean ± std. dev. of 7 runs, 10000 loops each)\n",
      "serial      : 192 µs ± 1.43 µs per loop (mean ± std. dev. of 7 runs, 10000 loops each)\n",
      "forall2     : 196 µs ± 1.07 µs per loop (mean ± std. dev. of 7 runs, 10000 loops each)\n",
      "do2         : 197 µs ± 1.58 µs per loop (mean ± std. dev. of 7 runs, 10000 loops each)\n",
      "spread2     : 265 µs ± 6.02 µs per loop (mean ± std. dev. of 7 runs, 1000 loops each)\n",
      "spread3     : 294 µs ± 5.56 µs per loop (mean ± std. dev. of 7 runs, 1000 loops each)\n"
     ]
    }
   ],
   "source": [
    "for name, timeit_result in timeit_results:\n",
    "    print(f\"{name:{max_width}}: {timeit_result}\")"
   ]
  }
 ],
 "metadata": {
  "kernelspec": {
   "display_name": "Python 3",
   "language": "python",
   "name": "python3"
  },
  "language_info": {
   "codemirror_mode": {
    "name": "ipython",
    "version": 3
   },
   "file_extension": ".py",
   "mimetype": "text/x-python",
   "name": "python",
   "nbconvert_exporter": "python",
   "pygments_lexer": "ipython3",
   "version": "3.7.3"
  }
 },
 "nbformat": 4,
 "nbformat_minor": 2
}
