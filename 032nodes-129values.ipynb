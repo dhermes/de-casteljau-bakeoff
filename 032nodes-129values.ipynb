{
 "cells": [
  {
   "cell_type": "code",
   "execution_count": 1,
   "metadata": {},
   "outputs": [],
   "source": [
    "import nb_helpers"
   ]
  },
  {
   "cell_type": "code",
   "execution_count": 2,
   "metadata": {},
   "outputs": [],
   "source": [
    "nodes, s_vals = nb_helpers.generate_nodes(32, 129, 1298609691)"
   ]
  },
  {
   "cell_type": "markdown",
   "metadata": {},
   "source": [
    "# Non-Optimized Implementations"
   ]
  },
  {
   "cell_type": "code",
   "execution_count": 3,
   "metadata": {},
   "outputs": [],
   "source": [
    "timeit_results = []\n",
    "for fn in nb_helpers.BAKEOFF_FUNCTIONS:\n",
    "    name = fn.__name__\n",
    "    timeit_result = %timeit -o -q fn(nodes, s_vals)\n",
    "    timeit_results.append((name, timeit_result))\n",
    "    \n",
    "timeit_results = nb_helpers.sort_results(timeit_results)\n",
    "max_width = max(len(name) for name, _ in timeit_results)"
   ]
  },
  {
   "cell_type": "code",
   "execution_count": 4,
   "metadata": {},
   "outputs": [
    {
     "name": "stdout",
     "output_type": "stream",
     "text": [
      "vs_algorithm53: 24.7 µs ± 286 ns per loop (mean ± std. dev. of 7 runs, 10000 loops each)\n",
      "vs_algorithm32: 25.8 µs ± 493 ns per loop (mean ± std. dev. of 7 runs, 10000 loops each)\n",
      "vs_algorithm64: 25.9 µs ± 360 ns per loop (mean ± std. dev. of 7 runs, 10000 loops each)\n",
      "spread1       : 224 µs ± 13.3 µs per loop (mean ± std. dev. of 7 runs, 1000 loops each)\n",
      "forall3       : 234 µs ± 7.86 µs per loop (mean ± std. dev. of 7 runs, 1000 loops each)\n",
      "do3           : 241 µs ± 10.3 µs per loop (mean ± std. dev. of 7 runs, 1000 loops each)\n",
      "serial        : 245 µs ± 1.22 µs per loop (mean ± std. dev. of 7 runs, 1000 loops each)\n",
      "do2           : 245 µs ± 6.78 µs per loop (mean ± std. dev. of 7 runs, 1000 loops each)\n",
      "forall2       : 252 µs ± 25.1 µs per loop (mean ± std. dev. of 7 runs, 1000 loops each)\n",
      "do1           : 285 µs ± 5.67 µs per loop (mean ± std. dev. of 7 runs, 1000 loops each)\n",
      "forall1       : 313 µs ± 28.5 µs per loop (mean ± std. dev. of 7 runs, 1000 loops each)\n",
      "spread2       : 328 µs ± 17.6 µs per loop (mean ± std. dev. of 7 runs, 1000 loops each)\n",
      "spread3       : 333 µs ± 4.62 µs per loop (mean ± std. dev. of 7 runs, 1000 loops each)\n"
     ]
    }
   ],
   "source": [
    "for name, timeit_result in timeit_results:\n",
    "    print(f\"{name:{max_width}}: {timeit_result}\")"
   ]
  },
  {
   "cell_type": "markdown",
   "metadata": {},
   "source": [
    "# Optimized Implementations"
   ]
  },
  {
   "cell_type": "code",
   "execution_count": 5,
   "metadata": {},
   "outputs": [],
   "source": [
    "timeit_results = []\n",
    "for fn in nb_helpers.BAKEOFF_OPT_FUNCTIONS:\n",
    "    name = fn.__name__\n",
    "    timeit_result = %timeit -o -q fn(nodes, s_vals)\n",
    "    timeit_results.append((name, timeit_result))\n",
    "    \n",
    "timeit_results = nb_helpers.sort_results(timeit_results)\n",
    "max_width = max(len(name) for name, _ in timeit_results)"
   ]
  },
  {
   "cell_type": "code",
   "execution_count": 6,
   "metadata": {},
   "outputs": [
    {
     "name": "stdout",
     "output_type": "stream",
     "text": [
      "vs_algorithm53: 13.6 µs ± 141 ns per loop (mean ± std. dev. of 7 runs, 100000 loops each)\n",
      "vs_algorithm32: 13.6 µs ± 71.5 ns per loop (mean ± std. dev. of 7 runs, 100000 loops each)\n",
      "vs_algorithm64: 13.9 µs ± 115 ns per loop (mean ± std. dev. of 7 runs, 100000 loops each)\n",
      "spread1       : 66.6 µs ± 1.71 µs per loop (mean ± std. dev. of 7 runs, 10000 loops each)\n",
      "do1           : 129 µs ± 1.08 µs per loop (mean ± std. dev. of 7 runs, 10000 loops each)\n",
      "forall1       : 132 µs ± 3.82 µs per loop (mean ± std. dev. of 7 runs, 10000 loops each)\n",
      "forall3       : 185 µs ± 2.46 µs per loop (mean ± std. dev. of 7 runs, 10000 loops each)\n",
      "do3           : 191 µs ± 1.46 µs per loop (mean ± std. dev. of 7 runs, 10000 loops each)\n",
      "serial        : 191 µs ± 4.21 µs per loop (mean ± std. dev. of 7 runs, 10000 loops each)\n",
      "do2           : 196 µs ± 1.26 µs per loop (mean ± std. dev. of 7 runs, 10000 loops each)\n",
      "forall2       : 203 µs ± 3.91 µs per loop (mean ± std. dev. of 7 runs, 10000 loops each)\n",
      "spread2       : 265 µs ± 3.81 µs per loop (mean ± std. dev. of 7 runs, 1000 loops each)\n",
      "spread3       : 312 µs ± 7.25 µs per loop (mean ± std. dev. of 7 runs, 1000 loops each)\n"
     ]
    }
   ],
   "source": [
    "for name, timeit_result in timeit_results:\n",
    "    print(f\"{name:{max_width}}: {timeit_result}\")"
   ]
  }
 ],
 "metadata": {
  "kernelspec": {
   "display_name": "Python 3",
   "language": "python",
   "name": "python3"
  },
  "language_info": {
   "codemirror_mode": {
    "name": "ipython",
    "version": 3
   },
   "file_extension": ".py",
   "mimetype": "text/x-python",
   "name": "python",
   "nbconvert_exporter": "python",
   "pygments_lexer": "ipython3",
   "version": "3.7.3"
  }
 },
 "nbformat": 4,
 "nbformat_minor": 2
}
